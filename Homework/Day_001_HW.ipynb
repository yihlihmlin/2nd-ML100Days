{
 "cells": [
  {
   "cell_type": "markdown",
   "metadata": {},
   "source": [
    "# HW1\n",
    "\n",
    "## [Titanic：Machine Learning from Disaster](https://www.kaggle.com/c/titanic)\n",
    "\n",
    "### 1. 這組資料為何重要 \n",
    "\n",
    "這是一個在Kaggle平台上的經典競賽，主要提供一些鐵達尼號上的乘客資訊，去預測乘客的生存與否並熟悉Machine Learning的基礎知識\n",
    "\n",
    "[競賽簡介]\n",
    "\n",
    ">RMS泰坦尼克號沉沒是歷史上最臭名昭著的沉船之一。 1912年4月15日，在她的處女航中，鐵達尼號在與冰山相撞後沉沒，\n",
    "在2224名乘客和機組人員中造成1502人死亡。 這場聳人聽聞的悲劇震驚了國際社會，並為船舶制定了更好的安全規定。\n",
    "造成海難失事的原因之一是乘客和機組人員沒有足夠的救生艇。 \n",
    "儘管倖存下沉有一些運氣因素，但有些人比其他人更容易生存，例如婦女，兒童和上流社會。 --From Competition Description\n",
    "\n",
    "### 2. 資料從何而來 \n",
    "\n",
    "有以下幾種取得方式：\n",
    "\n",
    "* Kaggle平台官方數據\n",
    "* R收錄的官方套件\n",
    "\n",
    "[R code]\n",
    "\n",
    "       install.packages(\"titanic\")\n",
    "       \n",
    "       library(titanic)\n",
    "\n",
    "### 3. 蒐集而來的資料型態為何\n",
    "\n",
    "官方提供的數據在一開始就分為train 跟test 兩個資料集：<p>\n",
    "\n",
    "   * training set (train.csv)\n",
    "    \n",
    "   * test set (test.csv)\n",
    "    \n",
    "所以在進行資料探索時可以合併訓練資料集和測試資料集\n",
    "\n",
    "[變數說明]\n",
    "\n",
    ">變數類別   變數名稱    變數內容\n",
    "1.  數值   PassengerId 編號\n",
    "2.  類別   Survived    是否存活 ( 0:否 1:是 )\n",
    "3.  類別   Pclass      社會經濟地位等級 ( 1:上等 2:中等 3:低等 )\n",
    "4.  字串   Name        姓名\n",
    "5.  類別   Sex         性別 ( male:男 female:女 )\n",
    "6.  數值   Age         年齡( 年齡小於 1 會有小數點，預估的年齡以'XX.5'表示 )\n",
    "7.  數值   SibSp       在船上的兄弟姊妹及配偶總數\n",
    "8.  數值   Parch       在船上的父母家長及子女總數\n",
    "9.  字串   Ticket      船票編號\n",
    "10. 數值   Fare        票價\n",
    "11. 字串   Cabin       座艙編號\n",
    "12. 類別   Embarked    登船港口 ( C:瑟堡-法國城鎮 Q:皇后鎮-紐西蘭城市 S:南安普敦-英格蘭城市 )\n",
    "\n",
    "### 4. 這組資料想解決的問題如何評估\n",
    "\n",
    "使用Python and R basics語法以機器學習的方式去執行Binary classification並對生存與否進行預測\n",
    "\n",
    "以官方提供的 train.csv 進行訓練、建模，並以 test.csv 進行驗證"
   ]
  },
  {
   "cell_type": "markdown",
   "metadata": {},
   "source": [
    "# HW2\n",
    "\n",
    "經營一個自由載客車隊，你希望能透過數據分析以提升業績，請你思考並描述你如何規劃整體的分析/解決方案：\n",
    "\n",
    "## 1. 核心問題為何 (tips：如何定義 「提升業績 & 你的假設」)\n",
    "\n",
    ">提升業績可以兩個面向來看：\n",
    ">* 整體：車隊的整體載客量增加\n",
    ">* 單一司機：總收入/總行駛距離，可以得到單一一個車隊司機，在工作時間的業績效率如何\n",
    "\n",
    "## 2. 資料從何而來\n",
    "\n",
    ">資料可藉由車隊中每輛車的里程表進行紀錄，收入可由各司機進行記錄並回報\n",
    "\n",
    "## 3. 蒐集而來的資料型態為何\n",
    "\n",
    ">資料型態會是表單型態的數值資料\n",
    "\n",
    "## 4. 要回答的問題如何評估 \n",
    "\n",
    ">比較數據分析前後，司機在工作時間每公里平均得到的收入有無改變\n"
   ]
  },
  {
   "cell_type": "markdown",
   "metadata": {},
   "source": [
    "# HW3\n",
    "## 練習時間\n",
    "## 常見於迴歸問題的評估指標\n",
    "* Mean Absolute Error (MAE)\n",
    "* Mean Squared Error (MSE)\n",
    "\n",
    "## 常見於分類問題的指標\n",
    "* Binary Cross Entropy (CE)\n",
    "\n",
    "### 請寫一個函式用來計算 Mean Square Error\n",
    "$ MSE = \\frac{1}{n}\\sum_{i=1}^{n}{(Y_i - \\hat{Y}_i)^2} $\n",
    "\n",
    "### Hint: [如何取平方](https://googoodesign.gitbooks.io/-ezpython/unit-1.html)"
   ]
  },
  {
   "cell_type": "code",
   "execution_count": 5,
   "metadata": {},
   "outputs": [],
   "source": [
    "import numpy as np\n",
    "import matplotlib.pyplot as plt"
   ]
  },
  {
   "cell_type": "code",
   "execution_count": 10,
   "metadata": {},
   "outputs": [],
   "source": [
    "def mean_squared_error(y, yp):\n",
    "    \"\"\"\n",
    "    計算 MSE\n",
    "    Args:\n",
    "        - y: 實際值\n",
    "        - yp: 預測值\n",
    "    Return:\n",
    "        - mse: MSE\n",
    "    \"\"\"\n",
    "    mse = MSE = sum((y - yp)**2) / len(y)\n",
    "    return mse\n",
    "def mean_absolute_error(y, yp):\n",
    "    \"\"\"\n",
    "    計算 MAE\n",
    "    Args:\n",
    "        - y: 實際值\n",
    "        - yp: 預測值\n",
    "    Return:\n",
    "        - mae: MAE\n",
    "    \"\"\"\n",
    "    mae = MAE = sum(abs(y - yp)) / len(y)\n",
    "    return mae"
   ]
  },
  {
   "cell_type": "code",
   "execution_count": 11,
   "metadata": {},
   "outputs": [
    {
     "data": {
      "image/png": "[encoded data removed]",
      "text/plain": [
       "<Figure size 432x288 with 1 Axes>"
      ]
     },
     "metadata": {},
     "output_type": "display_data"
    }
   ],
   "source": [
    "w = 3\n",
    "b = 0.5\n",
    "\n",
    "x_lin = np.linspace(0, 100, 101)\n",
    "\n",
    "y = (x_lin + np.random.randn(101) * 5) * w + b\n",
    "\n",
    "plt.plot(x_lin, y, 'b.', label = 'data points')\n",
    "plt.title(\"Assume we have data points\")\n",
    "plt.legend(loc = 2)\n",
    "plt.show()"
   ]
  },
  {
   "cell_type": "code",
   "execution_count": 12,
   "metadata": {},
   "outputs": [
    {
     "data": {
      "image/png": "[encoded data removed]",
      "text/plain": [
       "<Figure size 432x288 with 1 Axes>"
      ]
     },
     "metadata": {},
     "output_type": "display_data"
    }
   ],
   "source": [
    "y_hat = x_lin * w + b\n",
    "plt.plot(x_lin, y, 'b.', label = 'data')\n",
    "plt.plot(x_lin, y_hat, 'r-', label = 'prediction')\n",
    "plt.title(\"Assume we have data points (And the prediction)\")\n",
    "plt.legend(loc = 2)\n",
    "plt.show()"
   ]
  },
  {
   "cell_type": "code",
   "execution_count": 13,
   "metadata": {},
   "outputs": [
    {
     "name": "stdout",
     "output_type": "stream",
     "text": [
      "The Mean squared error is 251.024\n",
      "The Mean absolute error is 13.156\n"
     ]
    }
   ],
   "source": [
    "# 執行 Function, 確認有沒有正常執行\n",
    "MSE = mean_squared_error(y, y_hat)\n",
    "MAE = mean_absolute_error(y, y_hat)\n",
    "print(\"The Mean squared error is %.3f\" % (MSE))\n",
    "print(\"The Mean absolute error is %.3f\" % (MAE))"
   ]
  },
  {
   "cell_type": "code",
   "execution_count": null,
   "metadata": {},
   "outputs": [],
   "source": []
  }
 ],
 "metadata": {
  "anaconda-cloud": {},
  "kernelspec": {
   "display_name": "Python 3",
   "language": "python",
   "name": "python3"
  },
  "language_info": {
   "codemirror_mode": {
    "name": "ipython",
    "version": 3
   },
   "file_extension": ".py",
   "mimetype": "text/x-python",
   "name": "python",
   "nbconvert_exporter": "python",
   "pygments_lexer": "ipython3",
   "version": "3.6.5"
  }
 },
 "nbformat": 4,
 "nbformat_minor": 1
}
