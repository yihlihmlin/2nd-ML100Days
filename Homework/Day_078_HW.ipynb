{
 "cells": [
  {
   "cell_type": "markdown",
   "metadata": {},
   "source": [
    "## 範例重點\n",
    "### 學習在模型開始前檢查各個環節\n",
    "1. 是否有 GPU 資源\n",
    "2. 將前處理轉為函式，統一處理訓練、驗證與測試集\n",
    "3. 將超參數變數化，易於重複使用函式、模型等"
   ]
  },
  {
   "cell_type": "code",
   "execution_count": 2,
   "metadata": {},
   "outputs": [
    {
     "name": "stderr",
     "output_type": "stream",
     "text": [
      "'nvidia-smi' 不是內部或外部命令、可執行的程式或批次檔。\n"
     ]
    }
   ],
   "source": [
    "## 確認硬體資源 (如果你是在 Linux, 若是在 Windows, 請參考 https://blog.csdn.net/idwtwt/article/details/78017565)\n",
    "!nvidia-smi"
   ]
  },
  {
   "cell_type": "code",
   "execution_count": 3,
   "metadata": {},
   "outputs": [],
   "source": [
    "import os\n",
    "import keras\n",
    "\n",
    "# 本範例不需使用 GPU, 將 GPU 設定為 \"無\"\n",
    "os.environ[\"CUDA_VISIBLE_DEVICES\"] = \"\""
   ]
  },
  {
   "cell_type": "code",
   "execution_count": 4,
   "metadata": {},
   "outputs": [],
   "source": [
    "# 從 Keras 的內建功能中，取得 train 與 test 資料集\n",
    "train, test = keras.datasets.cifar10.load_data()"
   ]
  },
  {
   "cell_type": "code",
   "execution_count": 5,
   "metadata": {},
   "outputs": [],
   "source": [
    "## 資料前處理\n",
    "def preproc_x(x, flatten=True):\n",
    "    x = x / 255.\n",
    "    if flatten:\n",
    "        x = x.reshape((len(x), -1))\n",
    "    return x\n",
    "\n",
    "def preproc_y(y, num_classes=10):\n",
    "    if y.shape[-1] == 1:\n",
    "        y = keras.utils.to_categorical(y, num_classes)\n",
    "    return y    "
   ]
  },
  {
   "cell_type": "code",
   "execution_count": 6,
   "metadata": {},
   "outputs": [],
   "source": [
    "x_train, y_train = train\n",
    "x_test, y_test = test\n",
    "\n",
    "# 資料前處理 - X 標準化\n",
    "x_train = preproc_x(x_train)\n",
    "x_test = preproc_x(x_test)\n",
    "\n",
    "# 資料前處理 -Y 轉成 onehot\n",
    "y_train = preproc_y(y_train)\n",
    "y_test = preproc_y(y_test)"
   ]
  },
  {
   "cell_type": "code",
   "execution_count": 7,
   "metadata": {},
   "outputs": [],
   "source": [
    "def build_mlp(input_shape, output_units=10, num_neurons=[512, 256, 128]):\n",
    "    input_layer = keras.layers.Input(input_shape)\n",
    "    \n",
    "    for i, n_units in enumerate(num_neurons):\n",
    "        if i == 0:\n",
    "            x = keras.layers.Dense(units=n_units, activation=\"relu\", name=\"hidden_layer\"+str(i+1))(input_layer)\n",
    "        else:\n",
    "            x = keras.layers.Dense(units=n_units, activation=\"relu\", name=\"hidden_layer\"+str(i+1))(x)\n",
    "    \n",
    "    out = keras.layers.Dense(units=output_units, activation=\"softmax\", name=\"output\")(x)\n",
    "    \n",
    "    model = keras.models.Model(inputs=[input_layer], outputs=[out])\n",
    "    return model"
   ]
  },
  {
   "cell_type": "code",
   "execution_count": 8,
   "metadata": {},
   "outputs": [
    {
     "name": "stderr",
     "output_type": "stream",
     "text": [
      "WARNING: Logging before flag parsing goes to stderr.\n",
      "W0801 23:49:37.375991  3452 deprecation_wrapper.py:119] From C:\\Anaconda3\\lib\\site-packages\\keras\\backend\\tensorflow_backend.py:74: The name tf.get_default_graph is deprecated. Please use tf.compat.v1.get_default_graph instead.\n",
      "\n",
      "W0801 23:49:40.332083  3452 deprecation_wrapper.py:119] From C:\\Anaconda3\\lib\\site-packages\\keras\\backend\\tensorflow_backend.py:517: The name tf.placeholder is deprecated. Please use tf.compat.v1.placeholder instead.\n",
      "\n",
      "W0801 23:49:40.405884  3452 deprecation_wrapper.py:119] From C:\\Anaconda3\\lib\\site-packages\\keras\\backend\\tensorflow_backend.py:4138: The name tf.random_uniform is deprecated. Please use tf.random.uniform instead.\n",
      "\n"
     ]
    },
    {
     "name": "stdout",
     "output_type": "stream",
     "text": [
      "_________________________________________________________________\n",
      "Layer (type)                 Output Shape              Param #   \n",
      "=================================================================\n",
      "input_1 (InputLayer)         (None, 3072)              0         \n",
      "_________________________________________________________________\n",
      "hidden_layer1 (Dense)        (None, 512)               1573376   \n",
      "_________________________________________________________________\n",
      "hidden_layer2 (Dense)        (None, 256)               131328    \n",
      "_________________________________________________________________\n",
      "hidden_layer3 (Dense)        (None, 128)               32896     \n",
      "_________________________________________________________________\n",
      "output (Dense)               (None, 10)                1290      \n",
      "=================================================================\n",
      "Total params: 1,738,890\n",
      "Trainable params: 1,738,890\n",
      "Non-trainable params: 0\n",
      "_________________________________________________________________\n"
     ]
    }
   ],
   "source": [
    "model = build_mlp(input_shape=x_train.shape[1:])\n",
    "model.summary()"
   ]
  },
  {
   "cell_type": "code",
   "execution_count": 9,
   "metadata": {},
   "outputs": [],
   "source": [
    "## 超參數設定\n",
    "LEARNING_RATE = 0.001\n",
    "EPOCHS = 100\n",
    "BATCH_SIZE = 256"
   ]
  },
  {
   "cell_type": "code",
   "execution_count": 10,
   "metadata": {},
   "outputs": [
    {
     "name": "stderr",
     "output_type": "stream",
     "text": [
      "W0801 23:49:40.946438  3452 deprecation_wrapper.py:119] From C:\\Anaconda3\\lib\\site-packages\\keras\\optimizers.py:790: The name tf.train.Optimizer is deprecated. Please use tf.compat.v1.train.Optimizer instead.\n",
      "\n",
      "W0801 23:49:40.966386  3452 deprecation_wrapper.py:119] From C:\\Anaconda3\\lib\\site-packages\\keras\\backend\\tensorflow_backend.py:3295: The name tf.log is deprecated. Please use tf.math.log instead.\n",
      "\n"
     ]
    }
   ],
   "source": [
    "optimizer = keras.optimizers.Adam(lr=LEARNING_RATE)\n",
    "model.compile(loss=\"categorical_crossentropy\", metrics=[\"accuracy\"], optimizer=optimizer)"
   ]
  },
  {
   "cell_type": "code",
   "execution_count": 11,
   "metadata": {},
   "outputs": [
    {
     "name": "stderr",
     "output_type": "stream",
     "text": [
      "W0801 23:49:41.188507  3452 deprecation.py:323] From C:\\Anaconda3\\lib\\site-packages\\tensorflow\\python\\ops\\math_grad.py:1250: add_dispatch_support.<locals>.wrapper (from tensorflow.python.ops.array_ops) is deprecated and will be removed in a future version.\n",
      "Instructions for updating:\n",
      "Use tf.where in 2.0, which has the same broadcast rule as np.where\n",
      "W0801 23:49:41.273012  3452 deprecation_wrapper.py:119] From C:\\Anaconda3\\lib\\site-packages\\keras\\backend\\tensorflow_backend.py:986: The name tf.assign_add is deprecated. Please use tf.compat.v1.assign_add instead.\n",
      "\n"
     ]
    },
    {
     "name": "stdout",
     "output_type": "stream",
     "text": [
      "Train on 50000 samples, validate on 10000 samples\n",
      "Epoch 1/100\n",
      "50000/50000 [==============================] - 12s 245us/step - loss: 1.9421 - acc: 0.3019 - val_loss: 1.7683 - val_acc: 0.3642\n",
      "Epoch 2/100\n",
      "50000/50000 [==============================] - 11s 219us/step - loss: 1.7181 - acc: 0.3857 - val_loss: 1.7411 - val_acc: 0.37781\n",
      "Epoch 3/100\n",
      "50000/50000 [==============================] - 11s 229us/step - loss: 1.6245 - acc: 0.4220 - val_loss: 1.6016 - val_acc: 0.4272\n",
      "Epoch 4/100\n",
      "50000/50000 [==============================] - 11s 228us/step - loss: 1.5503 - acc: 0.4485 - val_loss: 1.5678 - val_acc: 0.4438\n",
      "Epoch 5/100\n",
      "50000/50000 [==============================] - 12s 237us/step - loss: 1.5087 - acc: 0.4618 - val_loss: 1.5443 - val_acc: 0.4407\n",
      "Epoch 6/100\n",
      "50000/50000 [==============================] - 14s 285us/step - loss: 1.4762 - acc: 0.4746 - val_loss: 1.5059 - val_acc: 0.4574\n",
      "Epoch 7/100\n",
      "50000/50000 [==============================] - 13s 258us/step - loss: 1.4373 - acc: 0.4875 - val_loss: 1.4710 - val_acc: 0.4732\n",
      "Epoch 8/100\n",
      "50000/50000 [==============================] - 13s 251us/step - loss: 1.4008 - acc: 0.5015 - val_loss: 1.4316 - val_acc: 0.4910\n",
      "Epoch 9/100\n",
      "50000/50000 [==============================] - 12s 236us/step - loss: 1.3695 - acc: 0.5114 - val_loss: 1.4409 - val_acc: 0.4832\n",
      "Epoch 10/100\n",
      "50000/50000 [==============================] - 11s 228us/step - loss: 1.3450 - acc: 0.5224 - val_loss: 1.4354 - val_acc: 0.4911\n",
      "Epoch 11/100\n",
      "50000/50000 [==============================] - 12s 232us/step - loss: 1.3256 - acc: 0.5262 - val_loss: 1.4008 - val_acc: 0.5029\n",
      "Epoch 12/100\n",
      "50000/50000 [==============================] - 12s 236us/step - loss: 1.2955 - acc: 0.5389 - val_loss: 1.4026 - val_acc: 0.5019\n",
      "Epoch 13/100\n",
      "50000/50000 [==============================] - 13s 251us/step - loss: 1.2756 - acc: 0.5463 - val_loss: 1.3947 - val_acc: 0.5072\n",
      "Epoch 14/100\n",
      "50000/50000 [==============================] - 12s 245us/step - loss: 1.2442 - acc: 0.5581 - val_loss: 1.3782 - val_acc: 0.5126\n",
      "Epoch 15/100\n",
      "50000/50000 [==============================] - 12s 250us/step - loss: 1.2226 - acc: 0.5631 - val_loss: 1.4073 - val_acc: 0.5044\n",
      "Epoch 16/100\n",
      "50000/50000 [==============================] - 13s 254us/step - loss: 1.2140 - acc: 0.5670 - val_loss: 1.3710 - val_acc: 0.5127\n",
      "Epoch 17/100\n",
      "50000/50000 [==============================] - 12s 236us/step - loss: 1.1825 - acc: 0.5771 - val_loss: 1.3793 - val_acc: 0.5138\n",
      "Epoch 18/100\n",
      "50000/50000 [==============================] - 12s 233us/step - loss: 1.1733 - acc: 0.5806 - val_loss: 1.3547 - val_acc: 0.5246\n",
      "Epoch 19/100\n",
      "50000/50000 [==============================] - 11s 228us/step - loss: 1.1364 - acc: 0.5947 - val_loss: 1.3905 - val_acc: 0.5123\n",
      "Epoch 20/100\n",
      "50000/50000 [==============================] - 12s 245us/step - loss: 1.1251 - acc: 0.5977 - val_loss: 1.4213 - val_acc: 0.5035\n",
      "Epoch 21/100\n",
      "50000/50000 [==============================] - 15s 297us/step - loss: 1.1068 - acc: 0.6043 - val_loss: 1.3423 - val_acc: 0.5342\n",
      "Epoch 22/100\n",
      "50000/50000 [==============================] - 15s 293us/step - loss: 1.0835 - acc: 0.6123 - val_loss: 1.4104 - val_acc: 0.5163\n",
      "Epoch 23/100\n",
      "50000/50000 [==============================] - 17s 338us/step - loss: 1.0730 - acc: 0.6152 - val_loss: 1.3781 - val_acc: 0.5206\n",
      "Epoch 24/100\n",
      "50000/50000 [==============================] - 14s 286us/step - loss: 1.0513 - acc: 0.6257 - val_loss: 1.4229 - val_acc: 0.5187\n",
      "Epoch 25/100\n",
      "50000/50000 [==============================] - 17s 333us/step - loss: 1.0313 - acc: 0.6317 - val_loss: 1.3680 - val_acc: 0.5298\n",
      "Epoch 26/100\n",
      "50000/50000 [==============================] - 14s 273us/step - loss: 1.0240 - acc: 0.6344 - val_loss: 1.3997 - val_acc: 0.5272\n",
      "Epoch 27/100\n",
      "50000/50000 [==============================] - 13s 259us/step - loss: 0.9903 - acc: 0.6472 - val_loss: 1.4397 - val_acc: 0.5172\n",
      "Epoch 28/100\n",
      "50000/50000 [==============================] - 13s 257us/step - loss: 0.9681 - acc: 0.6545 - val_loss: 1.3845 - val_acc: 0.5321\n",
      "Epoch 29/100\n",
      "50000/50000 [==============================] - 13s 260us/step - loss: 0.9548 - acc: 0.6590 - val_loss: 1.4033 - val_acc: 0.5263\n",
      "Epoch 30/100\n",
      "50000/50000 [==============================] - 14s 271us/step - loss: 0.9417 - acc: 0.6618 - val_loss: 1.4626 - val_acc: 0.5183\n",
      "Epoch 31/100\n",
      "50000/50000 [==============================] - 14s 278us/step - loss: 0.9208 - acc: 0.6703 - val_loss: 1.4448 - val_acc: 0.5251\n",
      "Epoch 32/100\n",
      "50000/50000 [==============================] - 14s 279us/step - loss: 0.9099 - acc: 0.6737 - val_loss: 1.4703 - val_acc: 0.5175\n",
      "Epoch 33/100\n",
      "50000/50000 [==============================] - 15s 294us/step - loss: 0.8881 - acc: 0.6823 - val_loss: 1.4778 - val_acc: 0.5266\n",
      "Epoch 34/100\n",
      "50000/50000 [==============================] - 15s 305us/step - loss: 0.8720 - acc: 0.6902 - val_loss: 1.4943 - val_acc: 0.5244\n",
      "Epoch 35/100\n",
      "50000/50000 [==============================] - 14s 289us/step - loss: 0.8631 - acc: 0.6913 - val_loss: 1.4961 - val_acc: 0.5252\n",
      "Epoch 36/100\n",
      "50000/50000 [==============================] - 14s 289us/step - loss: 0.8462 - acc: 0.6975 - val_loss: 1.5154 - val_acc: 0.5237\n",
      "Epoch 37/100\n",
      "50000/50000 [==============================] - 15s 292us/step - loss: 0.8279 - acc: 0.7047 - val_loss: 1.5106 - val_acc: 0.5315\n",
      "Epoch 38/100\n",
      "50000/50000 [==============================] - 15s 295us/step - loss: 0.8102 - acc: 0.7087 - val_loss: 1.5348 - val_acc: 0.5290\n",
      "Epoch 39/100\n",
      "50000/50000 [==============================] - 15s 309us/step - loss: 0.7990 - acc: 0.7145 - val_loss: 1.5334 - val_acc: 0.5251\n",
      "Epoch 40/100\n",
      "50000/50000 [==============================] - 16s 315us/step - loss: 0.7745 - acc: 0.7228 - val_loss: 1.5693 - val_acc: 0.5275\n",
      "Epoch 41/100\n",
      "50000/50000 [==============================] - 16s 320us/step - loss: 0.7607 - acc: 0.7279 - val_loss: 1.5743 - val_acc: 0.5234\n",
      "Epoch 42/100\n",
      "50000/50000 [==============================] - 17s 341us/step - loss: 0.7507 - acc: 0.7315 - val_loss: 1.6312 - val_acc: 0.5142\n",
      "Epoch 43/100\n",
      "50000/50000 [==============================] - 16s 325us/step - loss: 0.7363 - acc: 0.7362 - val_loss: 1.5947 - val_acc: 0.5239\n",
      "Epoch 44/100\n",
      "50000/50000 [==============================] - 16s 327us/step - loss: 0.7120 - acc: 0.7487 - val_loss: 1.6457 - val_acc: 0.5217\n",
      "Epoch 45/100\n",
      "50000/50000 [==============================] - 17s 341us/step - loss: 0.7088 - acc: 0.7445 - val_loss: 1.7367 - val_acc: 0.5150\n",
      "Epoch 46/100\n",
      "50000/50000 [==============================] - 18s 366us/step - loss: 0.6926 - acc: 0.7524 - val_loss: 1.6766 - val_acc: 0.5262\n",
      "Epoch 47/100\n",
      "50000/50000 [==============================] - 19s 376us/step - loss: 0.6876 - acc: 0.7552 - val_loss: 1.7473 - val_acc: 0.5245\n",
      "Epoch 48/100\n",
      "50000/50000 [==============================] - 16s 323us/step - loss: 0.6714 - acc: 0.7610 - val_loss: 1.7696 - val_acc: 0.5121\n",
      "Epoch 49/100\n",
      "50000/50000 [==============================] - 17s 331us/step - loss: 0.6579 - acc: 0.7656 - val_loss: 1.7390 - val_acc: 0.5186\n",
      "Epoch 50/100\n",
      "50000/50000 [==============================] - 18s 351us/step - loss: 0.6409 - acc: 0.7711 - val_loss: 1.7720 - val_acc: 0.5189\n",
      "Epoch 51/100\n",
      "50000/50000 [==============================] - 15s 302us/step - loss: 0.6285 - acc: 0.7780 - val_loss: 1.7849 - val_acc: 0.5217\n",
      "Epoch 52/100\n",
      "50000/50000 [==============================] - 16s 315us/step - loss: 0.6181 - acc: 0.7800 - val_loss: 1.8047 - val_acc: 0.5209\n",
      "Epoch 53/100\n",
      "50000/50000 [==============================] - 16s 327us/step - loss: 0.6114 - acc: 0.7816 - val_loss: 1.8430 - val_acc: 0.5146\n",
      "Epoch 54/100\n",
      "50000/50000 [==============================] - 17s 347us/step - loss: 0.5916 - acc: 0.7882 - val_loss: 1.8764 - val_acc: 0.5173\n",
      "Epoch 55/100\n",
      "50000/50000 [==============================] - 18s 355us/step - loss: 0.5826 - acc: 0.7914 - val_loss: 1.8685 - val_acc: 0.5150\n",
      "Epoch 56/100\n",
      "50000/50000 [==============================] - 18s 355us/step - loss: 0.5630 - acc: 0.7991 - val_loss: 1.8782 - val_acc: 0.5159\n",
      "Epoch 57/100\n",
      "50000/50000 [==============================] - 18s 359us/step - loss: 0.5663 - acc: 0.7967 - val_loss: 1.9457 - val_acc: 0.5171\n",
      "Epoch 58/100\n",
      "50000/50000 [==============================] - 16s 327us/step - loss: 0.5452 - acc: 0.8052 - val_loss: 1.9706 - val_acc: 0.5140\n"
     ]
    },
    {
     "name": "stdout",
     "output_type": "stream",
     "text": [
      "Epoch 59/100\n",
      "50000/50000 [==============================] - 15s 307us/step - loss: 0.5445 - acc: 0.8066 - val_loss: 1.9684 - val_acc: 0.5221\n",
      "Epoch 60/100\n",
      "50000/50000 [==============================] - 16s 321us/step - loss: 0.5388 - acc: 0.8073 - val_loss: 2.0035 - val_acc: 0.5194\n",
      "Epoch 61/100\n",
      "50000/50000 [==============================] - 17s 331us/step - loss: 0.5088 - acc: 0.8202 - val_loss: 2.0138 - val_acc: 0.5199\n",
      "Epoch 62/100\n",
      "50000/50000 [==============================] - 17s 340us/step - loss: 0.5053 - acc: 0.8206 - val_loss: 2.0415 - val_acc: 0.5178\n",
      "Epoch 63/100\n",
      "50000/50000 [==============================] - 16s 325us/step - loss: 0.5103 - acc: 0.8170 - val_loss: 2.1601 - val_acc: 0.5172\n",
      "Epoch 64/100\n",
      "50000/50000 [==============================] - 17s 333us/step - loss: 0.4982 - acc: 0.8216 - val_loss: 2.0660 - val_acc: 0.5162\n",
      "Epoch 65/100\n",
      "50000/50000 [==============================] - 16s 312us/step - loss: 0.4854 - acc: 0.8268 - val_loss: 2.1006 - val_acc: 0.5146\n",
      "Epoch 66/100\n",
      "50000/50000 [==============================] - 15s 306us/step - loss: 0.4667 - acc: 0.8342 - val_loss: 2.1535 - val_acc: 0.5187\n",
      "Epoch 67/100\n",
      "50000/50000 [==============================] - 16s 316us/step - loss: 0.4549 - acc: 0.8387 - val_loss: 2.1670 - val_acc: 0.5142\n",
      "Epoch 68/100\n",
      "50000/50000 [==============================] - 17s 334us/step - loss: 0.4781 - acc: 0.8286 - val_loss: 2.2322 - val_acc: 0.5087\n",
      "Epoch 69/100\n",
      "50000/50000 [==============================] - 17s 342us/step - loss: 0.4524 - acc: 0.8389 - val_loss: 2.2519 - val_acc: 0.5150\n",
      "Epoch 70/100\n",
      "50000/50000 [==============================] - 17s 342us/step - loss: 0.4350 - acc: 0.8453 - val_loss: 2.3102 - val_acc: 0.5098\n",
      "Epoch 71/100\n",
      "50000/50000 [==============================] - 18s 352us/step - loss: 0.4265 - acc: 0.8486 - val_loss: 2.2565 - val_acc: 0.5161\n",
      "Epoch 72/100\n",
      "50000/50000 [==============================] - 17s 341us/step - loss: 0.4343 - acc: 0.8438 - val_loss: 2.4063 - val_acc: 0.5048\n",
      "Epoch 73/100\n",
      "50000/50000 [==============================] - 16s 329us/step - loss: 0.4162 - acc: 0.8507 - val_loss: 2.3453 - val_acc: 0.5096\n",
      "Epoch 74/100\n",
      "50000/50000 [==============================] - 16s 328us/step - loss: 0.4011 - acc: 0.8579 - val_loss: 2.4329 - val_acc: 0.5050\n",
      "Epoch 75/100\n",
      "50000/50000 [==============================] - 17s 346us/step - loss: 0.4062 - acc: 0.8558 - val_loss: 2.3979 - val_acc: 0.5093\n",
      "Epoch 76/100\n",
      "50000/50000 [==============================] - 18s 350us/step - loss: 0.3995 - acc: 0.8570 - val_loss: 2.4137 - val_acc: 0.5117\n",
      "Epoch 77/100\n",
      "50000/50000 [==============================] - 18s 354us/step - loss: 0.3928 - acc: 0.8601 - val_loss: 2.4552 - val_acc: 0.5123\n",
      "Epoch 78/100\n",
      "50000/50000 [==============================] - 19s 376us/step - loss: 0.3752 - acc: 0.8644 - val_loss: 2.5532 - val_acc: 0.5116\n",
      "Epoch 79/100\n",
      "50000/50000 [==============================] - 18s 369us/step - loss: 0.3869 - acc: 0.8623 - val_loss: 2.4635 - val_acc: 0.5069\n",
      "Epoch 80/100\n",
      "50000/50000 [==============================] - 17s 343us/step - loss: 0.3751 - acc: 0.8652 - val_loss: 2.4890 - val_acc: 0.5118\n",
      "Epoch 81/100\n",
      "50000/50000 [==============================] - 18s 352us/step - loss: 0.3777 - acc: 0.8641 - val_loss: 2.5201 - val_acc: 0.5080\n",
      "Epoch 82/100\n",
      "50000/50000 [==============================] - 19s 385us/step - loss: 0.3567 - acc: 0.8720 - val_loss: 2.6481 - val_acc: 0.5037\n",
      "Epoch 83/100\n",
      "50000/50000 [==============================] - 19s 377us/step - loss: 0.3743 - acc: 0.8653 - val_loss: 2.5642 - val_acc: 0.5081\n",
      "Epoch 84/100\n",
      "50000/50000 [==============================] - 18s 358us/step - loss: 0.3455 - acc: 0.8760 - val_loss: 2.6200 - val_acc: 0.5120\n",
      "Epoch 85/100\n",
      "50000/50000 [==============================] - 18s 365us/step - loss: 0.3468 - acc: 0.8752 - val_loss: 2.6741 - val_acc: 0.5080\n",
      "Epoch 86/100\n",
      "50000/50000 [==============================] - 17s 334us/step - loss: 0.3450 - acc: 0.8773 - val_loss: 2.6539 - val_acc: 0.5012\n",
      "Epoch 87/100\n",
      "50000/50000 [==============================] - 16s 329us/step - loss: 0.3516 - acc: 0.8733 - val_loss: 2.7765 - val_acc: 0.4999\n",
      "Epoch 88/100\n",
      "50000/50000 [==============================] - 17s 344us/step - loss: 0.3182 - acc: 0.8851 - val_loss: 2.7305 - val_acc: 0.5118\n",
      "Epoch 89/100\n",
      "50000/50000 [==============================] - 18s 352us/step - loss: 0.3096 - acc: 0.8882 - val_loss: 2.7911 - val_acc: 0.5028\n",
      "Epoch 90/100\n",
      "50000/50000 [==============================] - 17s 346us/step - loss: 0.3293 - acc: 0.8818 - val_loss: 2.7919 - val_acc: 0.5066\n",
      "Epoch 91/100\n",
      "50000/50000 [==============================] - 18s 357us/step - loss: 0.3340 - acc: 0.8810 - val_loss: 2.8101 - val_acc: 0.4963\n",
      "Epoch 92/100\n",
      "50000/50000 [==============================] - 18s 368us/step - loss: 0.3261 - acc: 0.8817 - val_loss: 2.8857 - val_acc: 0.5019\n",
      "Epoch 93/100\n",
      "50000/50000 [==============================] - 16s 328us/step - loss: 0.3218 - acc: 0.8859 - val_loss: 2.9135 - val_acc: 0.5051\n",
      "Epoch 94/100\n",
      "50000/50000 [==============================] - 17s 334us/step - loss: 0.3072 - acc: 0.8895 - val_loss: 2.8897 - val_acc: 0.5068\n",
      "Epoch 95/100\n",
      "50000/50000 [==============================] - 17s 345us/step - loss: 0.2930 - acc: 0.8965 - val_loss: 2.9148 - val_acc: 0.5029\n",
      "Epoch 96/100\n",
      "50000/50000 [==============================] - 18s 352us/step - loss: 0.3018 - acc: 0.8920 - val_loss: 2.9132 - val_acc: 0.5041\n",
      "Epoch 97/100\n",
      "50000/50000 [==============================] - 17s 345us/step - loss: 0.2831 - acc: 0.8976 - val_loss: 3.0212 - val_acc: 0.5008\n",
      "Epoch 98/100\n",
      "50000/50000 [==============================] - 17s 343us/step - loss: 0.2980 - acc: 0.8928 - val_loss: 3.0079 - val_acc: 0.4993\n",
      "Epoch 99/100\n",
      "50000/50000 [==============================] - 17s 346us/step - loss: 0.2851 - acc: 0.8991 - val_loss: 2.9408 - val_acc: 0.5041\n",
      "Epoch 100/100\n",
      "50000/50000 [==============================] - 16s 313us/step - loss: 0.2833 - acc: 0.8966 - val_loss: 3.0515 - val_acc: 0.5011\n"
     ]
    },
    {
     "data": {
      "text/plain": [
       "<keras.callbacks.History at 0x1c158973cf8>"
      ]
     },
     "execution_count": 11,
     "metadata": {},
     "output_type": "execute_result"
    }
   ],
   "source": [
    "model.fit(x_train, y_train, \n",
    "          epochs=EPOCHS, \n",
    "          batch_size=BATCH_SIZE, \n",
    "          validation_data=(x_test, y_test), \n",
    "          shuffle=True)"
   ]
  },
  {
   "cell_type": "code",
   "execution_count": 12,
   "metadata": {},
   "outputs": [
    {
     "data": {
      "text/plain": [
       "<Figure size 640x480 with 1 Axes>"
      ]
     },
     "metadata": {},
     "output_type": "display_data"
    },
    {
     "data": {
      "text/plain": [
       "<Figure size 640x480 with 1 Axes>"
      ]
     },
     "metadata": {},
     "output_type": "display_data"
    }
   ],
   "source": [
    "# 訓練模型並檢視驗證集的結果\n",
    "import matplotlib.pyplot as plt\n",
    "\n",
    "train_loss = model.history.history[\"loss\"]\n",
    "valid_loss = model.history.history[\"val_loss\"]\n",
    "\n",
    "train_acc = model.history.history[\"acc\"]\n",
    "valid_acc = model.history.history[\"val_acc\"]\n",
    "\n",
    "plt.plot(range(len(train_loss)), train_loss, label=\"train loss\")\n",
    "plt.plot(range(len(valid_loss)), valid_loss, label=\"valid loss\")\n",
    "plt.legend()\n",
    "plt.title(\"Loss\")\n",
    "plt.show()\n",
    "\n",
    "plt.plot(range(len(train_acc)), train_acc, label=\"train accuracy\")\n",
    "plt.plot(range(len(valid_acc)), valid_acc, label=\"valid accuracy\")\n",
    "plt.legend()\n",
    "plt.title(\"Accuracy\")\n",
    "plt.show()"
   ]
  },
  {
   "cell_type": "markdown",
   "metadata": {},
   "source": [
    "## Work\n",
    "1. 請嘗試將 preproc_x 替換成以每筆資料的 min/max 進行標準化至 -1 ~ 1 間，再進行訓練\n",
    "2. 請嘗試將 mlp 疊更深 (e.g 5~10 層)，進行訓練後觀察 learning curve 的走勢\n",
    "3. (optional) 請改用 GPU 進行訓練 (如果你有 GPU 的話)，比較使用 CPU 與 GPU 的訓練速度"
   ]
  },
  {
   "cell_type": "code",
   "execution_count": 1,
   "metadata": {},
   "outputs": [
    {
     "name": "stderr",
     "output_type": "stream",
     "text": [
      "C:\\Anaconda3\\lib\\site-packages\\h5py\\__init__.py:36: FutureWarning: Conversion of the second argument of issubdtype from `float` to `np.floating` is deprecated. In future, it will be treated as `np.float64 == np.dtype(float).type`.\n",
      "  from ._conv import register_converters as _register_converters\n",
      "Using TensorFlow backend.\n"
     ]
    }
   ],
   "source": [
    "import os\n",
    "import keras"
   ]
  },
  {
   "cell_type": "code",
   "execution_count": 13,
   "metadata": {},
   "outputs": [],
   "source": [
    "train, test = keras.datasets.cifar10.load_data()"
   ]
  },
  {
   "cell_type": "code",
   "execution_count": 14,
   "metadata": {},
   "outputs": [],
   "source": [
    "## 資料前處理\n",
    "\"\"\"\n",
    "Your code here\n",
    "\"\"\"\n",
    "def preproc_x(x, flatten=True):\n",
    "    x = x / 255.\n",
    "    if flatten:\n",
    "        x = x.reshape((len(x), -1))\n",
    "    return x\n",
    "\n",
    "def preproc_y(y, num_classes=10):\n",
    "    if y.shape[-1] == 1:\n",
    "        y = keras.utils.to_categorical(y, num_classes)\n",
    "    return y   "
   ]
  },
  {
   "cell_type": "code",
   "execution_count": 15,
   "metadata": {},
   "outputs": [],
   "source": [
    "x_train, y_train = train\n",
    "x_test, y_test = test\n",
    "\n",
    "# Preproc the inputs\n",
    "x_train = preproc_x(x_train)\n",
    "x_test = preproc_x(x_test)\n",
    "\n",
    "# Preprc the outputs\n",
    "y_train = preproc_y(y_train)\n",
    "y_test = preproc_y(y_test)"
   ]
  },
  {
   "cell_type": "code",
   "execution_count": 16,
   "metadata": {},
   "outputs": [],
   "source": [
    "\"\"\"Code Here\n",
    "建立你的神經網路\n",
    "\"\"\"\n",
    "def build_mlp(input_shape, output_units = 10, num_neurons=[512, 256, 128]):\n",
    "    \n",
    "    input_layer = keras.layers.Input(input_shape)\n",
    "    \n",
    "    for i, n_units in enumerate(num_neurons):\n",
    "        if i == 0:\n",
    "            x = keras.layers.Dense(units=n_units, activation=\"relu\", name=\"hidden_layer\"+str(i+1))(input_layer)\n",
    "        else:\n",
    "            x = keras.layers.Dense(units=n_units, activation=\"relu\", name=\"hidden_layer\"+str(i+1))(x)\n",
    "    \n",
    "    out = keras.layers.Dense(units=output_units, activation=\"softmax\", name=\"output\")(x)\n",
    "    \n",
    "    model = keras.models.Model(inputs=[input_layer], outputs=[out])\n",
    "    \n",
    "    return model"
   ]
  },
  {
   "cell_type": "code",
   "execution_count": 17,
   "metadata": {},
   "outputs": [
    {
     "name": "stdout",
     "output_type": "stream",
     "text": [
      "_________________________________________________________________\n",
      "Layer (type)                 Output Shape              Param #   \n",
      "=================================================================\n",
      "input_2 (InputLayer)         (None, 3072)              0         \n",
      "_________________________________________________________________\n",
      "hidden_layer1 (Dense)        (None, 512)               1573376   \n",
      "_________________________________________________________________\n",
      "hidden_layer2 (Dense)        (None, 256)               131328    \n",
      "_________________________________________________________________\n",
      "hidden_layer3 (Dense)        (None, 128)               32896     \n",
      "_________________________________________________________________\n",
      "hidden_layer4 (Dense)        (None, 128)               16512     \n",
      "_________________________________________________________________\n",
      "hidden_layer5 (Dense)        (None, 128)               16512     \n",
      "_________________________________________________________________\n",
      "hidden_layer6 (Dense)        (None, 256)               33024     \n",
      "_________________________________________________________________\n",
      "hidden_layer7 (Dense)        (None, 256)               65792     \n",
      "_________________________________________________________________\n",
      "hidden_layer8 (Dense)        (None, 128)               32896     \n",
      "_________________________________________________________________\n",
      "hidden_layer9 (Dense)        (None, 512)               66048     \n",
      "_________________________________________________________________\n",
      "output (Dense)               (None, 10)                5130      \n",
      "=================================================================\n",
      "Total params: 1,973,514\n",
      "Trainable params: 1,973,514\n",
      "Non-trainable params: 0\n",
      "_________________________________________________________________\n"
     ]
    }
   ],
   "source": [
    "model = build_mlp(input_shape = x_train.shape[1:], num_neurons=[512, 256, 128, 128, 128, 256, 256, 128, 512])\n",
    "model.summary()"
   ]
  },
  {
   "cell_type": "code",
   "execution_count": 18,
   "metadata": {},
   "outputs": [],
   "source": [
    "## 超參數設定\n",
    "LEARNING_RATE = 0.001\n",
    "EPOCHS = 100\n",
    "BATCH_SIZE = 256"
   ]
  },
  {
   "cell_type": "code",
   "execution_count": 19,
   "metadata": {},
   "outputs": [],
   "source": [
    "optimizer = keras.optimizers.Adam(lr=LEARNING_RATE)\n",
    "model.compile(loss=\"categorical_crossentropy\", metrics=[\"accuracy\"], optimizer=optimizer)"
   ]
  },
  {
   "cell_type": "code",
   "execution_count": 20,
   "metadata": {},
   "outputs": [
    {
     "name": "stdout",
     "output_type": "stream",
     "text": [
      "Train on 50000 samples, validate on 10000 samples\n",
      "Epoch 1/100\n",
      "50000/50000 [==============================] - 21s 428us/step - loss: 1.9615 - acc: 0.2680 - val_loss: 1.8417 - val_acc: 0.3274\n",
      "Epoch 2/100\n",
      "50000/50000 [==============================] - 21s 428us/step - loss: 1.7755 - acc: 0.3532 - val_loss: 1.7028 - val_acc: 0.3823\n",
      "Epoch 3/100\n",
      "50000/50000 [==============================] - 21s 426us/step - loss: 1.7018 - acc: 0.3845 - val_loss: 1.6976 - val_acc: 0.3841\n",
      "Epoch 4/100\n",
      "50000/50000 [==============================] - 24s 488us/step - loss: 1.6351 - acc: 0.4126 - val_loss: 1.6167 - val_acc: 0.4219\n",
      "Epoch 5/100\n",
      "50000/50000 [==============================] - 22s 435us/step - loss: 1.5759 - acc: 0.4357 - val_loss: 1.5814 - val_acc: 0.4309\n",
      "Epoch 6/100\n",
      "50000/50000 [==============================] - 20s 394us/step - loss: 1.5361 - acc: 0.4470 - val_loss: 1.5634 - val_acc: 0.4452\n",
      "Epoch 7/100\n",
      "50000/50000 [==============================] - 21s 429us/step - loss: 1.4980 - acc: 0.4628 - val_loss: 1.5061 - val_acc: 0.4619\n",
      "Epoch 8/100\n",
      "50000/50000 [==============================] - 23s 465us/step - loss: 1.4726 - acc: 0.4714 - val_loss: 1.4914 - val_acc: 0.4638\n",
      "Epoch 9/100\n",
      "50000/50000 [==============================] - 26s 517us/step - loss: 1.4328 - acc: 0.4873 - val_loss: 1.4668 - val_acc: 0.4767\n",
      "Epoch 10/100\n",
      "50000/50000 [==============================] - 22s 432us/step - loss: 1.4122 - acc: 0.4931 - val_loss: 1.5009 - val_acc: 0.4717\n",
      "Epoch 11/100\n",
      "50000/50000 [==============================] - 21s 420us/step - loss: 1.3815 - acc: 0.5064 - val_loss: 1.4777 - val_acc: 0.4808\n",
      "Epoch 12/100\n",
      "50000/50000 [==============================] - 20s 403us/step - loss: 1.3663 - acc: 0.5070 - val_loss: 1.4533 - val_acc: 0.4874\n",
      "Epoch 13/100\n",
      "50000/50000 [==============================] - 18s 360us/step - loss: 1.3294 - acc: 0.5240 - val_loss: 1.4361 - val_acc: 0.4910\n",
      "Epoch 14/100\n",
      "50000/50000 [==============================] - 18s 356us/step - loss: 1.3118 - acc: 0.5287 - val_loss: 1.4349 - val_acc: 0.4941\n",
      "Epoch 15/100\n",
      "50000/50000 [==============================] - 18s 357us/step - loss: 1.2893 - acc: 0.5359 - val_loss: 1.4482 - val_acc: 0.4924\n",
      "Epoch 16/100\n",
      "50000/50000 [==============================] - 20s 401us/step - loss: 1.2738 - acc: 0.5422 - val_loss: 1.4263 - val_acc: 0.5011\n",
      "Epoch 17/100\n",
      "50000/50000 [==============================] - 20s 400us/step - loss: 1.2422 - acc: 0.5526 - val_loss: 1.4043 - val_acc: 0.5011\n",
      "Epoch 18/100\n",
      "50000/50000 [==============================] - 18s 369us/step - loss: 1.2247 - acc: 0.5611 - val_loss: 1.4027 - val_acc: 0.5035\n",
      "Epoch 19/100\n",
      "50000/50000 [==============================] - 19s 377us/step - loss: 1.2122 - acc: 0.5637 - val_loss: 1.4287 - val_acc: 0.5029\n",
      "Epoch 20/100\n",
      "50000/50000 [==============================] - 17s 337us/step - loss: 1.1852 - acc: 0.5755 - val_loss: 1.4183 - val_acc: 0.5041\n",
      "Epoch 21/100\n",
      "50000/50000 [==============================] - 18s 357us/step - loss: 1.1724 - acc: 0.5767 - val_loss: 1.3792 - val_acc: 0.5161\n",
      "Epoch 22/100\n",
      "50000/50000 [==============================] - 19s 384us/step - loss: 1.1421 - acc: 0.5885 - val_loss: 1.4358 - val_acc: 0.5058\n",
      "Epoch 23/100\n",
      "50000/50000 [==============================] - 18s 359us/step - loss: 1.1408 - acc: 0.5894 - val_loss: 1.4380 - val_acc: 0.5009\n",
      "Epoch 24/100\n",
      "50000/50000 [==============================] - 17s 349us/step - loss: 1.1093 - acc: 0.6006 - val_loss: 1.4574 - val_acc: 0.5031\n",
      "Epoch 25/100\n",
      "50000/50000 [==============================] - 17s 347us/step - loss: 1.0902 - acc: 0.6060 - val_loss: 1.4065 - val_acc: 0.5204\n",
      "Epoch 26/100\n",
      "50000/50000 [==============================] - 17s 335us/step - loss: 1.0733 - acc: 0.6116 - val_loss: 1.4486 - val_acc: 0.5047\n",
      "Epoch 27/100\n",
      "50000/50000 [==============================] - 16s 328us/step - loss: 1.0514 - acc: 0.6186 - val_loss: 1.4217 - val_acc: 0.5129\n",
      "Epoch 28/100\n",
      "50000/50000 [==============================] - 17s 333us/step - loss: 1.0390 - acc: 0.6267 - val_loss: 1.4876 - val_acc: 0.5102\n",
      "Epoch 29/100\n",
      "50000/50000 [==============================] - 18s 356us/step - loss: 1.0210 - acc: 0.6307 - val_loss: 1.4796 - val_acc: 0.5119\n",
      "Epoch 30/100\n",
      "50000/50000 [==============================] - 19s 382us/step - loss: 0.9972 - acc: 0.6394 - val_loss: 1.4850 - val_acc: 0.5059\n",
      "Epoch 31/100\n",
      "50000/50000 [==============================] - 19s 379us/step - loss: 0.9870 - acc: 0.6417 - val_loss: 1.4946 - val_acc: 0.5112\n",
      "Epoch 32/100\n",
      "50000/50000 [==============================] - 19s 382us/step - loss: 0.9660 - acc: 0.6492 - val_loss: 1.4878 - val_acc: 0.5072\n",
      "Epoch 33/100\n",
      "50000/50000 [==============================] - 18s 361us/step - loss: 0.9511 - acc: 0.6565 - val_loss: 1.5230 - val_acc: 0.5159\n",
      "Epoch 34/100\n",
      "50000/50000 [==============================] - 18s 356us/step - loss: 0.9256 - acc: 0.6644 - val_loss: 1.5649 - val_acc: 0.4909\n",
      "Epoch 35/100\n",
      "50000/50000 [==============================] - 17s 336us/step - loss: 0.9178 - acc: 0.6661 - val_loss: 1.5446 - val_acc: 0.5177\n",
      "Epoch 36/100\n",
      "50000/50000 [==============================] - 20s 403us/step - loss: 0.9006 - acc: 0.6739 - val_loss: 1.6126 - val_acc: 0.5046\n",
      "Epoch 37/100\n",
      "50000/50000 [==============================] - 19s 388us/step - loss: 0.8839 - acc: 0.6795 - val_loss: 1.6076 - val_acc: 0.5023\n",
      "Epoch 38/100\n",
      "50000/50000 [==============================] - 20s 391us/step - loss: 0.8772 - acc: 0.6799 - val_loss: 1.6441 - val_acc: 0.4922\n",
      "Epoch 39/100\n",
      "50000/50000 [==============================] - 20s 390us/step - loss: 0.8649 - acc: 0.6874 - val_loss: 1.5895 - val_acc: 0.5157\n",
      "Epoch 40/100\n",
      "50000/50000 [==============================] - 19s 377us/step - loss: 0.8557 - acc: 0.6915 - val_loss: 1.6306 - val_acc: 0.5121\n",
      "Epoch 41/100\n",
      "50000/50000 [==============================] - 19s 379us/step - loss: 0.8167 - acc: 0.7013 - val_loss: 1.6380 - val_acc: 0.5037\n",
      "Epoch 42/100\n",
      "50000/50000 [==============================] - 20s 391us/step - loss: 0.8102 - acc: 0.7032 - val_loss: 1.7041 - val_acc: 0.4919\n",
      "Epoch 43/100\n",
      "50000/50000 [==============================] - 19s 389us/step - loss: 0.8009 - acc: 0.7100 - val_loss: 1.7271 - val_acc: 0.4972\n",
      "Epoch 44/100\n",
      "50000/50000 [==============================] - 20s 392us/step - loss: 0.7788 - acc: 0.7160 - val_loss: 1.6376 - val_acc: 0.5129\n",
      "Epoch 45/100\n",
      "50000/50000 [==============================] - 20s 404us/step - loss: 0.7447 - acc: 0.7279 - val_loss: 1.7894 - val_acc: 0.5100\n",
      "Epoch 46/100\n",
      "50000/50000 [==============================] - 20s 398us/step - loss: 0.7546 - acc: 0.7238 - val_loss: 1.7715 - val_acc: 0.5090\n",
      "Epoch 47/100\n",
      "50000/50000 [==============================] - 19s 385us/step - loss: 0.7556 - acc: 0.7255 - val_loss: 1.7146 - val_acc: 0.5112\n",
      "Epoch 48/100\n",
      "50000/50000 [==============================] - 19s 387us/step - loss: 0.7149 - acc: 0.7403 - val_loss: 1.7968 - val_acc: 0.5028\n",
      "Epoch 49/100\n",
      "50000/50000 [==============================] - 21s 426us/step - loss: 0.7095 - acc: 0.7404 - val_loss: 1.9362 - val_acc: 0.4949\n",
      "Epoch 50/100\n",
      "50000/50000 [==============================] - 20s 400us/step - loss: 0.6985 - acc: 0.7437 - val_loss: 1.9564 - val_acc: 0.5037\n",
      "Epoch 51/100\n",
      "50000/50000 [==============================] - 20s 403us/step - loss: 0.6857 - acc: 0.7508 - val_loss: 1.8506 - val_acc: 0.4996\n",
      "Epoch 52/100\n",
      "50000/50000 [==============================] - 20s 392us/step - loss: 0.6878 - acc: 0.7492 - val_loss: 1.8866 - val_acc: 0.5061\n",
      "Epoch 53/100\n",
      "50000/50000 [==============================] - 19s 375us/step - loss: 0.6693 - acc: 0.7562 - val_loss: 1.9528 - val_acc: 0.5000\n",
      "Epoch 54/100\n",
      "50000/50000 [==============================] - 20s 391us/step - loss: 0.6418 - acc: 0.7644 - val_loss: 2.0091 - val_acc: 0.4912\n",
      "Epoch 55/100\n",
      "50000/50000 [==============================] - 19s 387us/step - loss: 0.6416 - acc: 0.7642 - val_loss: 1.9249 - val_acc: 0.5102\n",
      "Epoch 56/100\n",
      "50000/50000 [==============================] - 19s 375us/step - loss: 0.6450 - acc: 0.7650 - val_loss: 1.9487 - val_acc: 0.4976\n",
      "Epoch 57/100\n",
      "50000/50000 [==============================] - 19s 378us/step - loss: 0.6224 - acc: 0.7722 - val_loss: 2.0490 - val_acc: 0.5009\n",
      "Epoch 58/100\n"
     ]
    },
    {
     "name": "stdout",
     "output_type": "stream",
     "text": [
      "50000/50000 [==============================] - 16s 324us/step - loss: 0.6066 - acc: 0.7798 - val_loss: 2.1195 - val_acc: 0.4922\n",
      "Epoch 59/100\n",
      "50000/50000 [==============================] - 16s 325us/step - loss: 0.5955 - acc: 0.7849 - val_loss: 2.0700 - val_acc: 0.4997\n",
      "Epoch 60/100\n",
      "50000/50000 [==============================] - 16s 312us/step - loss: 0.5860 - acc: 0.7856 - val_loss: 2.0214 - val_acc: 0.4971\n",
      "Epoch 61/100\n",
      "50000/50000 [==============================] - 17s 331us/step - loss: 0.5673 - acc: 0.7922 - val_loss: 2.0902 - val_acc: 0.4930\n",
      "Epoch 62/100\n",
      "50000/50000 [==============================] - 16s 318us/step - loss: 0.5863 - acc: 0.7859 - val_loss: 2.0888 - val_acc: 0.4930\n",
      "Epoch 63/100\n",
      "50000/50000 [==============================] - 16s 320us/step - loss: 0.5427 - acc: 0.7993 - val_loss: 2.1853 - val_acc: 0.5045\n",
      "Epoch 64/100\n",
      "50000/50000 [==============================] - 16s 322us/step - loss: 0.5573 - acc: 0.7970 - val_loss: 2.1374 - val_acc: 0.4994\n",
      "Epoch 65/100\n",
      "50000/50000 [==============================] - 15s 307us/step - loss: 0.5419 - acc: 0.8012 - val_loss: 2.1662 - val_acc: 0.4929\n",
      "Epoch 66/100\n",
      "50000/50000 [==============================] - 15s 306us/step - loss: 0.5388 - acc: 0.8022 - val_loss: 2.1868 - val_acc: 0.4987\n",
      "Epoch 67/100\n",
      "50000/50000 [==============================] - 15s 304us/step - loss: 0.5354 - acc: 0.8035 - val_loss: 2.2618 - val_acc: 0.4972\n",
      "Epoch 68/100\n",
      "50000/50000 [==============================] - 15s 310us/step - loss: 0.5292 - acc: 0.8081 - val_loss: 2.1987 - val_acc: 0.5010\n",
      "Epoch 69/100\n",
      "50000/50000 [==============================] - 17s 334us/step - loss: 0.5097 - acc: 0.8150 - val_loss: 2.3580 - val_acc: 0.4936\n",
      "Epoch 70/100\n",
      "50000/50000 [==============================] - 16s 327us/step - loss: 0.5028 - acc: 0.8175 - val_loss: 2.3582 - val_acc: 0.4904\n",
      "Epoch 71/100\n",
      "50000/50000 [==============================] - 16s 327us/step - loss: 0.5053 - acc: 0.8153 - val_loss: 2.2145 - val_acc: 0.5075\n",
      "Epoch 72/100\n",
      "50000/50000 [==============================] - 16s 322us/step - loss: 0.4932 - acc: 0.8204 - val_loss: 2.3872 - val_acc: 0.5009\n",
      "Epoch 73/100\n",
      "50000/50000 [==============================] - 15s 306us/step - loss: 0.4798 - acc: 0.8247 - val_loss: 2.3821 - val_acc: 0.4978\n",
      "Epoch 74/100\n",
      "50000/50000 [==============================] - 15s 306us/step - loss: 0.4690 - acc: 0.8286 - val_loss: 2.2656 - val_acc: 0.4978\n",
      "Epoch 75/100\n",
      "50000/50000 [==============================] - 15s 305us/step - loss: 0.4624 - acc: 0.8306 - val_loss: 2.4056 - val_acc: 0.4926\n",
      "Epoch 76/100\n",
      "50000/50000 [==============================] - 16s 318us/step - loss: 0.4545 - acc: 0.8349 - val_loss: 2.4058 - val_acc: 0.4948\n",
      "Epoch 77/100\n",
      "50000/50000 [==============================] - 17s 330us/step - loss: 0.4554 - acc: 0.8358 - val_loss: 2.4667 - val_acc: 0.4994\n",
      "Epoch 78/100\n",
      "50000/50000 [==============================] - 16s 327us/step - loss: 0.4626 - acc: 0.8333 - val_loss: 2.3677 - val_acc: 0.4956\n",
      "Epoch 79/100\n",
      "50000/50000 [==============================] - 17s 334us/step - loss: 0.4419 - acc: 0.8401 - val_loss: 2.5219 - val_acc: 0.4921\n",
      "Epoch 80/100\n",
      "50000/50000 [==============================] - 16s 313us/step - loss: 0.4396 - acc: 0.8413 - val_loss: 2.7114 - val_acc: 0.4896\n",
      "Epoch 81/100\n",
      "50000/50000 [==============================] - 17s 334us/step - loss: 0.4316 - acc: 0.8415 - val_loss: 2.5288 - val_acc: 0.4868\n",
      "Epoch 82/100\n",
      "50000/50000 [==============================] - 16s 325us/step - loss: 0.4459 - acc: 0.8378 - val_loss: 2.6161 - val_acc: 0.4923\n",
      "Epoch 83/100\n",
      "50000/50000 [==============================] - 17s 335us/step - loss: 0.4051 - acc: 0.8529 - val_loss: 2.6104 - val_acc: 0.5003\n",
      "Epoch 84/100\n",
      "50000/50000 [==============================] - 19s 372us/step - loss: 0.4246 - acc: 0.8480 - val_loss: 2.6063 - val_acc: 0.4950\n",
      "Epoch 85/100\n",
      "50000/50000 [==============================] - 19s 387us/step - loss: 0.4091 - acc: 0.8519 - val_loss: 2.5402 - val_acc: 0.4990\n",
      "Epoch 86/100\n",
      "50000/50000 [==============================] - 19s 380us/step - loss: 0.4012 - acc: 0.8551 - val_loss: 2.7175 - val_acc: 0.4891\n",
      "Epoch 87/100\n",
      "50000/50000 [==============================] - 19s 378us/step - loss: 0.3970 - acc: 0.8560 - val_loss: 2.7065 - val_acc: 0.4940\n",
      "Epoch 88/100\n",
      "50000/50000 [==============================] - 18s 364us/step - loss: 0.3956 - acc: 0.8581 - val_loss: 2.6596 - val_acc: 0.4953\n",
      "Epoch 89/100\n",
      "50000/50000 [==============================] - 19s 387us/step - loss: 0.3882 - acc: 0.8584 - val_loss: 2.6528 - val_acc: 0.4873\n",
      "Epoch 90/100\n",
      "50000/50000 [==============================] - 21s 413us/step - loss: 0.3931 - acc: 0.8579 - val_loss: 2.7815 - val_acc: 0.4947\n",
      "Epoch 91/100\n",
      "50000/50000 [==============================] - 21s 413us/step - loss: 0.3907 - acc: 0.8581 - val_loss: 2.7690 - val_acc: 0.4954\n",
      "Epoch 92/100\n",
      "50000/50000 [==============================] - 21s 416us/step - loss: 0.3820 - acc: 0.8609 - val_loss: 2.7594 - val_acc: 0.4913\n",
      "Epoch 93/100\n",
      "50000/50000 [==============================] - 21s 425us/step - loss: 0.3822 - acc: 0.8636 - val_loss: 2.8746 - val_acc: 0.4987\n",
      "Epoch 94/100\n",
      "50000/50000 [==============================] - 21s 412us/step - loss: 0.3724 - acc: 0.8660 - val_loss: 2.8334 - val_acc: 0.5018\n",
      "Epoch 95/100\n",
      "50000/50000 [==============================] - 20s 407us/step - loss: 0.3709 - acc: 0.8662 - val_loss: 2.7495 - val_acc: 0.4946\n",
      "Epoch 96/100\n",
      "50000/50000 [==============================] - 21s 416us/step - loss: 0.3641 - acc: 0.8688 - val_loss: 2.8993 - val_acc: 0.4996\n",
      "Epoch 97/100\n",
      "50000/50000 [==============================] - 21s 417us/step - loss: 0.3497 - acc: 0.8732 - val_loss: 2.7717 - val_acc: 0.4873\n",
      "Epoch 98/100\n",
      "50000/50000 [==============================] - 21s 429us/step - loss: 0.3369 - acc: 0.8785 - val_loss: 2.7802 - val_acc: 0.4827\n",
      "Epoch 99/100\n",
      "50000/50000 [==============================] - 23s 454us/step - loss: 0.3533 - acc: 0.8720 - val_loss: 2.6800 - val_acc: 0.4854\n",
      "Epoch 100/100\n",
      "50000/50000 [==============================] - 21s 422us/step - loss: 0.3407 - acc: 0.8762 - val_loss: 2.7529 - val_acc: 0.4956\n"
     ]
    },
    {
     "data": {
      "text/plain": [
       "<keras.callbacks.History at 0x1c15d7c5470>"
      ]
     },
     "execution_count": 20,
     "metadata": {},
     "output_type": "execute_result"
    }
   ],
   "source": [
    "model.fit(x_train, y_train, \n",
    "          epochs=EPOCHS, \n",
    "          batch_size=BATCH_SIZE, \n",
    "          validation_data=(x_test, y_test), \n",
    "          shuffle=True)\n"
   ]
  },
  {
   "cell_type": "code",
   "execution_count": 21,
   "metadata": {},
   "outputs": [
    {
     "data": {
      "image/png": "[encoded data removed]",
      "text/plain": [
       "<Figure size 432x288 with 1 Axes>"
      ]
     },
     "metadata": {},
     "output_type": "display_data"
    },
    {
     "data": {
      "image/png": "[encoded data removed]",
      "text/plain": [
       "<Figure size 432x288 with 1 Axes>"
      ]
     },
     "metadata": {},
     "output_type": "display_data"
    }
   ],
   "source": [
    "import matplotlib.pyplot as plt\n",
    "\n",
    "\n",
    "train_loss = model.history.history[\"loss\"]\n",
    "valid_loss = model.history.history[\"val_loss\"]\n",
    "\n",
    "train_acc = model.history.history[\"acc\"]\n",
    "valid_acc = model.history.history[\"val_acc\"]\n",
    "\n",
    "plt.plot(range(len(train_loss)), train_loss, label=\"train loss\")\n",
    "plt.plot(range(len(valid_loss)), valid_loss, label=\"valid loss\")\n",
    "plt.legend()\n",
    "plt.title(\"Loss\")\n",
    "plt.show()\n",
    "\n",
    "plt.plot(range(len(train_acc)), train_acc, label=\"train accuracy\")\n",
    "plt.plot(range(len(valid_acc)), valid_acc, label=\"valid accuracy\")\n",
    "plt.legend()\n",
    "plt.title(\"Accuracy\")\n",
    "plt.show()"
   ]
  }
 ],
 "metadata": {
  "kernelspec": {
   "display_name": "Python 3",
   "language": "python",
   "name": "python3"
  },
  "language_info": {
   "codemirror_mode": {
    "name": "ipython",
    "version": 3
   },
   "file_extension": ".py",
   "mimetype": "text/x-python",
   "name": "python",
   "nbconvert_exporter": "python",
   "pygments_lexer": "ipython3",
   "version": "3.6.5"
  }
 },
 "nbformat": 4,
 "nbformat_minor": 2
}
