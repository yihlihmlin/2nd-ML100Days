{
 "cells": [
  {
   "cell_type": "markdown",
   "metadata": {},
   "source": [
    "## 範例重點\n",
    "* 學習如何在 keras 中加入 EarlyStop\n",
    "* 知道如何設定監控目標\n",
    "* 比較有無 earlystopping 對 validation 的影響"
   ]
  },
  {
   "cell_type": "code",
   "execution_count": 1,
   "metadata": {},
   "outputs": [
    {
     "name": "stderr",
     "output_type": "stream",
     "text": [
      "/home/seanyu/.conda/envs/tf18_keras/lib/python3.6/site-packages/h5py/__init__.py:36: FutureWarning: Conversion of the second argument of issubdtype from `float` to `np.floating` is deprecated. In future, it will be treated as `np.float64 == np.dtype(float).type`.\n",
      "  from ._conv import register_converters as _register_converters\n",
      "Using TensorFlow backend.\n"
     ]
    }
   ],
   "source": [
    "import os\n",
    "import keras\n",
    "\n",
    "# 本範例不需使用 GPU, 將 GPU 設定為 \"無\"\n",
    "os.environ[\"CUDA_VISIBLE_DEVICES\"] = \"\""
   ]
  },
  {
   "cell_type": "code",
   "execution_count": 2,
   "metadata": {},
   "outputs": [],
   "source": [
    "train, test = keras.datasets.cifar10.load_data()"
   ]
  },
  {
   "cell_type": "code",
   "execution_count": 3,
   "metadata": {},
   "outputs": [],
   "source": [
    "## 資料前處理\n",
    "def preproc_x(x, flatten=True):\n",
    "    x = x / 255.\n",
    "    if flatten:\n",
    "        x = x.reshape((len(x), -1))\n",
    "    return x\n",
    "\n",
    "def preproc_y(y, num_classes=10):\n",
    "    if y.shape[-1] == 1:\n",
    "        y = keras.utils.to_categorical(y, num_classes)\n",
    "    return y    "
   ]
  },
  {
   "cell_type": "code",
   "execution_count": 4,
   "metadata": {},
   "outputs": [],
   "source": [
    "x_train, y_train = train\n",
    "x_test, y_test = test\n",
    "\n",
    "# 資料前處理 - X 標準化\n",
    "x_train = preproc_x(x_train)\n",
    "x_test = preproc_x(x_test)\n",
    "\n",
    "# 資料前處理 -Y 轉成 onehot\n",
    "y_train = preproc_y(y_train)\n",
    "y_test = preproc_y(y_test)"
   ]
  },
  {
   "cell_type": "code",
   "execution_count": 5,
   "metadata": {},
   "outputs": [],
   "source": [
    "from keras.layers import BatchNormalization\n",
    "\n",
    "\"\"\"\n",
    "建立神經網路，並加入 BN layer\n",
    "\"\"\"\n",
    "def build_mlp(input_shape, output_units=10, num_neurons=[512, 256, 128]):\n",
    "    input_layer = keras.layers.Input(input_shape)\n",
    "    \n",
    "    for i, n_units in enumerate(num_neurons):\n",
    "        if i == 0:\n",
    "            x = keras.layers.Dense(units=n_units, \n",
    "                                   activation=\"relu\", \n",
    "                                   name=\"hidden_layer\"+str(i+1))(input_layer)\n",
    "            x = BatchNormalization()(x)\n",
    "        else:\n",
    "            x = keras.layers.Dense(units=n_units, \n",
    "                                   activation=\"relu\", \n",
    "                                   name=\"hidden_layer\"+str(i+1))(x)\n",
    "            x = BatchNormalization()(x)\n",
    "    \n",
    "    out = keras.layers.Dense(units=output_units, activation=\"softmax\", name=\"output\")(x)\n",
    "    \n",
    "    model = keras.models.Model(inputs=[input_layer], outputs=[out])\n",
    "    return model"
   ]
  },
  {
   "cell_type": "code",
   "execution_count": 6,
   "metadata": {},
   "outputs": [],
   "source": [
    "## 超參數設定\n",
    "LEARNING_RATE = 1e-3\n",
    "EPOCHS = 50\n",
    "BATCH_SIZE = 1024\n",
    "MOMENTUM = 0.95"
   ]
  },
  {
   "cell_type": "code",
   "execution_count": 7,
   "metadata": {},
   "outputs": [],
   "source": [
    "\"\"\"\n",
    "# 載入 Callbacks, 並將 monitor 設定為監控 validation loss\n",
    "\"\"\"\n",
    "from keras.callbacks import EarlyStopping\n",
    "\n",
    "earlystop = EarlyStopping(monitor=\"val_loss\", \n",
    "                          patience=5, \n",
    "                          verbose=1\n",
    "                          )"
   ]
  },
  {
   "cell_type": "code",
   "execution_count": 8,
   "metadata": {
    "scrolled": true
   },
   "outputs": [
    {
     "name": "stdout",
     "output_type": "stream",
     "text": [
      "_________________________________________________________________\n",
      "Layer (type)                 Output Shape              Param #   \n",
      "=================================================================\n",
      "input_1 (InputLayer)         (None, 3072)              0         \n",
      "_________________________________________________________________\n",
      "hidden_layer1 (Dense)        (None, 512)               1573376   \n",
      "_________________________________________________________________\n",
      "batch_normalization_1 (Batch (None, 512)               2048      \n",
      "_________________________________________________________________\n",
      "hidden_layer2 (Dense)        (None, 256)               131328    \n",
      "_________________________________________________________________\n",
      "batch_normalization_2 (Batch (None, 256)               1024      \n",
      "_________________________________________________________________\n",
      "hidden_layer3 (Dense)        (None, 128)               32896     \n",
      "_________________________________________________________________\n",
      "batch_normalization_3 (Batch (None, 128)               512       \n",
      "_________________________________________________________________\n",
      "output (Dense)               (None, 10)                1290      \n",
      "=================================================================\n",
      "Total params: 1,742,474\n",
      "Trainable params: 1,740,682\n",
      "Non-trainable params: 1,792\n",
      "_________________________________________________________________\n",
      "Train on 50000 samples, validate on 10000 samples\n",
      "Epoch 1/50\n",
      "50000/50000 [==============================] - 3s 69us/step - loss: 2.1981 - acc: 0.2687 - val_loss: 2.1055 - val_acc: 0.3181\n",
      "Epoch 2/50\n",
      "50000/50000 [==============================] - 3s 61us/step - loss: 1.7399 - acc: 0.3947 - val_loss: 1.8064 - val_acc: 0.3860\n",
      "Epoch 3/50\n",
      "50000/50000 [==============================] - 3s 59us/step - loss: 1.6139 - acc: 0.4374 - val_loss: 1.6742 - val_acc: 0.4148\n",
      "Epoch 4/50\n",
      "50000/50000 [==============================] - 3s 58us/step - loss: 1.5383 - acc: 0.4638 - val_loss: 1.6265 - val_acc: 0.4319\n",
      "Epoch 5/50\n",
      "50000/50000 [==============================] - 3s 53us/step - loss: 1.4839 - acc: 0.4819 - val_loss: 1.5891 - val_acc: 0.4425\n",
      "Epoch 6/50\n",
      "50000/50000 [==============================] - 3s 56us/step - loss: 1.4393 - acc: 0.4986 - val_loss: 1.5448 - val_acc: 0.4550\n",
      "Epoch 7/50\n",
      "50000/50000 [==============================] - 3s 53us/step - loss: 1.4009 - acc: 0.5127 - val_loss: 1.5394 - val_acc: 0.4634\n",
      "Epoch 8/50\n",
      "50000/50000 [==============================] - 3s 55us/step - loss: 1.3651 - acc: 0.5254 - val_loss: 1.5195 - val_acc: 0.4661\n",
      "Epoch 9/50\n",
      "50000/50000 [==============================] - 3s 53us/step - loss: 1.3332 - acc: 0.5374 - val_loss: 1.5092 - val_acc: 0.4743\n",
      "Epoch 10/50\n",
      "50000/50000 [==============================] - 3s 51us/step - loss: 1.3031 - acc: 0.5478 - val_loss: 1.4978 - val_acc: 0.4773\n",
      "Epoch 11/50\n",
      "50000/50000 [==============================] - 3s 55us/step - loss: 1.2753 - acc: 0.5578 - val_loss: 1.4942 - val_acc: 0.4771\n",
      "Epoch 12/50\n",
      "50000/50000 [==============================] - 3s 50us/step - loss: 1.2502 - acc: 0.5686 - val_loss: 1.4810 - val_acc: 0.4821\n",
      "Epoch 13/50\n",
      "50000/50000 [==============================] - 2s 50us/step - loss: 1.2227 - acc: 0.5773 - val_loss: 1.4774 - val_acc: 0.4822\n",
      "Epoch 14/50\n",
      "50000/50000 [==============================] - 3s 51us/step - loss: 1.1984 - acc: 0.5854 - val_loss: 1.4716 - val_acc: 0.4827\n",
      "Epoch 15/50\n",
      "50000/50000 [==============================] - 3s 51us/step - loss: 1.1750 - acc: 0.5948 - val_loss: 1.4646 - val_acc: 0.4853\n",
      "Epoch 16/50\n",
      "50000/50000 [==============================] - 3s 57us/step - loss: 1.1527 - acc: 0.6031 - val_loss: 1.4703 - val_acc: 0.4901\n",
      "Epoch 17/50\n",
      "50000/50000 [==============================] - 3s 51us/step - loss: 1.1293 - acc: 0.6126 - val_loss: 1.4654 - val_acc: 0.4920\n",
      "Epoch 18/50\n",
      "50000/50000 [==============================] - 2s 49us/step - loss: 1.1093 - acc: 0.6205 - val_loss: 1.4560 - val_acc: 0.4932\n",
      "Epoch 19/50\n",
      "50000/50000 [==============================] - 3s 57us/step - loss: 1.0861 - acc: 0.6293 - val_loss: 1.4735 - val_acc: 0.4922\n",
      "Epoch 20/50\n",
      "50000/50000 [==============================] - 3s 52us/step - loss: 1.0650 - acc: 0.6372 - val_loss: 1.4561 - val_acc: 0.4949\n",
      "Epoch 21/50\n",
      "50000/50000 [==============================] - 2s 49us/step - loss: 1.0427 - acc: 0.6441 - val_loss: 1.4615 - val_acc: 0.4958\n",
      "Epoch 22/50\n",
      "50000/50000 [==============================] - 3s 51us/step - loss: 1.0234 - acc: 0.6537 - val_loss: 1.4565 - val_acc: 0.4964\n",
      "Epoch 23/50\n",
      "50000/50000 [==============================] - 3s 58us/step - loss: 1.0007 - acc: 0.6619 - val_loss: 1.4577 - val_acc: 0.5002\n",
      "Epoch 00023: early stopping\n"
     ]
    }
   ],
   "source": [
    "model = build_mlp(input_shape=x_train.shape[1:])\n",
    "model.summary()\n",
    "optimizer = keras.optimizers.SGD(lr=LEARNING_RATE, nesterov=True, momentum=MOMENTUM)\n",
    "model.compile(loss=\"categorical_crossentropy\", metrics=[\"accuracy\"], optimizer=optimizer)\n",
    "\n",
    "model.fit(x_train, y_train, \n",
    "          epochs=EPOCHS, \n",
    "          batch_size=BATCH_SIZE, \n",
    "          validation_data=(x_test, y_test), \n",
    "          shuffle=True,\n",
    "          callbacks=[earlystop]\n",
    "         )\n",
    "\n",
    "# Collect results\n",
    "train_loss = model.history.history[\"loss\"]\n",
    "valid_loss = model.history.history[\"val_loss\"]\n",
    "train_acc = model.history.history[\"acc\"]\n",
    "valid_acc = model.history.history[\"val_acc\"]"
   ]
  },
  {
   "cell_type": "code",
   "execution_count": 9,
   "metadata": {},
   "outputs": [
    {
     "data": {
      "image/png": "[encoded data removed]",
      "text/plain": [
       "<Figure size 432x288 with 1 Axes>"
      ]
     },
     "metadata": {},
     "output_type": "display_data"
    },
    {
     "data": {
      "image/png": "[encoded data removed]",
      "text/plain": [
       "<Figure size 432x288 with 1 Axes>"
      ]
     },
     "metadata": {},
     "output_type": "display_data"
    }
   ],
   "source": [
    "import matplotlib.pyplot as plt\n",
    "%matplotlib inline\n",
    "\n",
    "plt.plot(range(len(train_loss)), train_loss, label=\"train loss\")\n",
    "plt.plot(range(len(valid_loss)), valid_loss, label=\"valid loss\")\n",
    "plt.legend()\n",
    "plt.title(\"Loss\")\n",
    "plt.show()\n",
    "\n",
    "plt.plot(range(len(train_acc)), train_acc, label=\"train accuracy\")\n",
    "plt.plot(range(len(valid_acc)), valid_acc, label=\"valid accuracy\")\n",
    "plt.legend()\n",
    "plt.title(\"Accuracy\")\n",
    "plt.show()"
   ]
  },
  {
   "cell_type": "markdown",
   "metadata": {},
   "source": [
    "## Work\n",
    "1. 試改變 monitor \"Validation Accuracy\" 並比較結果\n",
    "2. 調整 earlystop 的等待次數至 10, 25 並比較結果"
   ]
  },
  {
   "cell_type": "code",
   "execution_count": 1,
   "metadata": {},
   "outputs": [
    {
     "name": "stderr",
     "output_type": "stream",
     "text": [
      "C:\\Anaconda3\\lib\\site-packages\\h5py\\__init__.py:36: FutureWarning: Conversion of the second argument of issubdtype from `float` to `np.floating` is deprecated. In future, it will be treated as `np.float64 == np.dtype(float).type`.\n",
      "  from ._conv import register_converters as _register_converters\n",
      "Using TensorFlow backend.\n"
     ]
    }
   ],
   "source": [
    "import os\n",
    "import keras\n",
    "import matplotlib.pyplot as plt\n",
    "%matplotlib inline\n",
    "\n",
    "\n",
    "# Disable GPU\n",
    "os.environ[\"CUDA_VISIBLE_DEVICES\"] = \"\""
   ]
  },
  {
   "cell_type": "code",
   "execution_count": 2,
   "metadata": {},
   "outputs": [],
   "source": [
    "train, test = keras.datasets.cifar10.load_data()"
   ]
  },
  {
   "cell_type": "code",
   "execution_count": 3,
   "metadata": {},
   "outputs": [],
   "source": [
    "## 資料前處理\n",
    "def preproc_x(x, flatten=True):\n",
    "    x = x / 255.\n",
    "    if flatten:\n",
    "        x = x.reshape((len(x), -1))\n",
    "    return x\n",
    "\n",
    "def preproc_y(y, num_classes=10):\n",
    "    if y.shape[-1] == 1:\n",
    "        y = keras.utils.to_categorical(y, num_classes)\n",
    "    return y  "
   ]
  },
  {
   "cell_type": "code",
   "execution_count": 4,
   "metadata": {},
   "outputs": [],
   "source": [
    "x_train, y_train = train\n",
    "x_test, y_test = test\n",
    "\n",
    "# Preproc the inputs\n",
    "x_train = preproc_x(x_train)\n",
    "x_test = preproc_x(x_test)\n",
    "\n",
    "# Preprc the outputs\n",
    "y_train = preproc_y(y_train)\n",
    "y_test = preproc_y(y_test)"
   ]
  },
  {
   "cell_type": "code",
   "execution_count": 5,
   "metadata": {},
   "outputs": [],
   "source": [
    "from keras.layers import BatchNormalization\n",
    "\n",
    "\"\"\"\n",
    "建立神經網路，並加入 BN layer\n",
    "\"\"\"\n",
    "def build_mlp(input_shape, output_units=10, num_neurons=[512, 256, 128]):\n",
    "    input_layer = keras.layers.Input(input_shape)\n",
    "    \n",
    "    for i, n_units in enumerate(num_neurons):\n",
    "        if i == 0:\n",
    "            x = keras.layers.Dense(units=n_units, \n",
    "                                   activation=\"relu\", \n",
    "                                   name=\"hidden_layer\"+str(i+1))(input_layer)\n",
    "            x = BatchNormalization()(x)\n",
    "        else:\n",
    "            x = keras.layers.Dense(units=n_units, \n",
    "                                   activation=\"relu\", \n",
    "                                   name=\"hidden_layer\"+str(i+1))(x)\n",
    "            x = BatchNormalization()(x)\n",
    "    \n",
    "    out = keras.layers.Dense(units=output_units, activation=\"softmax\", name=\"output\")(x)\n",
    "    \n",
    "    model = keras.models.Model(inputs=[input_layer], outputs=[out])\n",
    "    return model"
   ]
  },
  {
   "cell_type": "code",
   "execution_count": 6,
   "metadata": {},
   "outputs": [],
   "source": [
    "\"\"\"Code Here\n",
    "設定超參數\n",
    "\"\"\"\n",
    "## 超參數設定\n",
    "LEARNING_RATE = 0.01\n",
    "EPOCHS = 20\n",
    "BATCH_SIZE = 1024\n",
    "MOMENTUM = 0.5\n",
    "\n",
    "PATIENCE = [10,25]"
   ]
  },
  {
   "cell_type": "code",
   "execution_count": 7,
   "metadata": {},
   "outputs": [
    {
     "name": "stderr",
     "output_type": "stream",
     "text": [
      "WARNING: Logging before flag parsing goes to stderr.\n",
      "W0802 21:59:22.395312 10636 deprecation_wrapper.py:119] From C:\\Anaconda3\\lib\\site-packages\\keras\\backend\\tensorflow_backend.py:95: The name tf.reset_default_graph is deprecated. Please use tf.compat.v1.reset_default_graph instead.\n",
      "\n",
      "W0802 21:59:22.397433 10636 deprecation_wrapper.py:119] From C:\\Anaconda3\\lib\\site-packages\\keras\\backend\\tensorflow_backend.py:98: The name tf.placeholder_with_default is deprecated. Please use tf.compat.v1.placeholder_with_default instead.\n",
      "\n",
      "W0802 21:59:22.505605 10636 deprecation_wrapper.py:119] From C:\\Anaconda3\\lib\\site-packages\\keras\\backend\\tensorflow_backend.py:102: The name tf.get_default_graph is deprecated. Please use tf.compat.v1.get_default_graph instead.\n",
      "\n",
      "W0802 21:59:22.507597 10636 deprecation_wrapper.py:119] From C:\\Anaconda3\\lib\\site-packages\\keras\\backend\\tensorflow_backend.py:517: The name tf.placeholder is deprecated. Please use tf.compat.v1.placeholder instead.\n",
      "\n",
      "W0802 21:59:22.515580 10636 deprecation_wrapper.py:119] From C:\\Anaconda3\\lib\\site-packages\\keras\\backend\\tensorflow_backend.py:4138: The name tf.random_uniform is deprecated. Please use tf.random.uniform instead.\n",
      "\n"
     ]
    },
    {
     "name": "stdout",
     "output_type": "stream",
     "text": [
      "Experiment with PATIENCE = 10.000000\n"
     ]
    },
    {
     "name": "stderr",
     "output_type": "stream",
     "text": [
      "W0802 21:59:22.960387 10636 deprecation_wrapper.py:119] From C:\\Anaconda3\\lib\\site-packages\\keras\\optimizers.py:790: The name tf.train.Optimizer is deprecated. Please use tf.compat.v1.train.Optimizer instead.\n",
      "\n"
     ]
    },
    {
     "name": "stdout",
     "output_type": "stream",
     "text": [
      "_________________________________________________________________\n",
      "Layer (type)                 Output Shape              Param #   \n",
      "=================================================================\n",
      "input_1 (InputLayer)         (None, 3072)              0         \n",
      "_________________________________________________________________\n",
      "hidden_layer1 (Dense)        (None, 512)               1573376   \n",
      "_________________________________________________________________\n",
      "batch_normalization_1 (Batch (None, 512)               2048      \n",
      "_________________________________________________________________\n",
      "hidden_layer2 (Dense)        (None, 256)               131328    \n",
      "_________________________________________________________________\n",
      "batch_normalization_2 (Batch (None, 256)               1024      \n",
      "_________________________________________________________________\n",
      "hidden_layer3 (Dense)        (None, 128)               32896     \n",
      "_________________________________________________________________\n",
      "batch_normalization_3 (Batch (None, 128)               512       \n",
      "_________________________________________________________________\n",
      "output (Dense)               (None, 10)                1290      \n",
      "=================================================================\n",
      "Total params: 1,742,474\n",
      "Trainable params: 1,740,682\n",
      "Non-trainable params: 1,792\n",
      "_________________________________________________________________\n"
     ]
    },
    {
     "name": "stderr",
     "output_type": "stream",
     "text": [
      "W0802 21:59:23.148884 10636 deprecation.py:323] From C:\\Anaconda3\\lib\\site-packages\\tensorflow\\python\\ops\\math_grad.py:1250: add_dispatch_support.<locals>.wrapper (from tensorflow.python.ops.array_ops) is deprecated and will be removed in a future version.\n",
      "Instructions for updating:\n",
      "Use tf.where in 2.0, which has the same broadcast rule as np.where\n"
     ]
    },
    {
     "name": "stdout",
     "output_type": "stream",
     "text": [
      "Train on 50000 samples, validate on 10000 samples\n",
      "Epoch 1/20\n",
      "50000/50000 [==============================] - 8s 150us/step - loss: 2.0352 - acc: 0.3100 - val_loss: 1.9179 - val_acc: 0.3503\n",
      "Epoch 2/20\n",
      "50000/50000 [==============================] - 6s 124us/step - loss: 1.6904 - acc: 0.4085 - val_loss: 1.7709 - val_acc: 0.3921\n",
      "Epoch 3/20\n",
      "50000/50000 [==============================] - 6s 117us/step - loss: 1.5836 - acc: 0.4440 - val_loss: 1.6643 - val_acc: 0.4217\n",
      "Epoch 4/20\n",
      "50000/50000 [==============================] - 6s 115us/step - loss: 1.5115 - acc: 0.4738 - val_loss: 1.6426 - val_acc: 0.4250\n",
      "Epoch 5/20\n",
      "50000/50000 [==============================] - 6s 114us/step - loss: 1.4581 - acc: 0.4927 - val_loss: 1.6040 - val_acc: 0.4357\n",
      "Epoch 6/20\n",
      "50000/50000 [==============================] - 6s 115us/step - loss: 1.4173 - acc: 0.5059 - val_loss: 1.5592 - val_acc: 0.4537\n",
      "Epoch 7/20\n",
      "50000/50000 [==============================] - 6s 125us/step - loss: 1.3793 - acc: 0.5197 - val_loss: 1.5413 - val_acc: 0.4612\n",
      "Epoch 8/20\n",
      "50000/50000 [==============================] - 6s 127us/step - loss: 1.3460 - acc: 0.5297 - val_loss: 1.5166 - val_acc: 0.4678\n",
      "Epoch 9/20\n",
      "50000/50000 [==============================] - 6s 128us/step - loss: 1.3150 - acc: 0.5423 - val_loss: 1.5392 - val_acc: 0.4604\n",
      "Epoch 10/20\n",
      "50000/50000 [==============================] - 6s 129us/step - loss: 1.2854 - acc: 0.5522 - val_loss: 1.5047 - val_acc: 0.4647\n",
      "Epoch 11/20\n",
      "50000/50000 [==============================] - 6s 129us/step - loss: 1.2569 - acc: 0.5644 - val_loss: 1.5160 - val_acc: 0.4685\n",
      "Epoch 12/20\n",
      "50000/50000 [==============================] - 7s 135us/step - loss: 1.2334 - acc: 0.5721 - val_loss: 1.4788 - val_acc: 0.4803\n",
      "Epoch 13/20\n",
      "50000/50000 [==============================] - 7s 139us/step - loss: 1.2067 - acc: 0.5821 - val_loss: 1.5039 - val_acc: 0.4724\n",
      "Epoch 14/20\n",
      "50000/50000 [==============================] - 7s 138us/step - loss: 1.1829 - acc: 0.5899 - val_loss: 1.4895 - val_acc: 0.4763\n",
      "Epoch 15/20\n",
      "50000/50000 [==============================] - 6s 122us/step - loss: 1.1610 - acc: 0.5995 - val_loss: 1.4861 - val_acc: 0.4768\n",
      "Epoch 16/20\n",
      "50000/50000 [==============================] - 6s 127us/step - loss: 1.1381 - acc: 0.6083 - val_loss: 1.5244 - val_acc: 0.4662\n",
      "Epoch 17/20\n",
      "50000/50000 [==============================] - 7s 142us/step - loss: 1.1178 - acc: 0.6157 - val_loss: 1.4967 - val_acc: 0.4696\n",
      "Epoch 18/20\n",
      "50000/50000 [==============================] - 7s 142us/step - loss: 1.0958 - acc: 0.6252 - val_loss: 1.4809 - val_acc: 0.4810\n",
      "Epoch 19/20\n",
      "50000/50000 [==============================] - 7s 143us/step - loss: 1.0757 - acc: 0.6335 - val_loss: 1.5017 - val_acc: 0.4700\n",
      "Epoch 20/20\n",
      "50000/50000 [==============================] - 7s 143us/step - loss: 1.0536 - acc: 0.6416 - val_loss: 1.4706 - val_acc: 0.4822\n",
      "Experiment with PATIENCE = 25.000000\n",
      "_________________________________________________________________\n",
      "Layer (type)                 Output Shape              Param #   \n",
      "=================================================================\n",
      "input_1 (InputLayer)         (None, 3072)              0         \n",
      "_________________________________________________________________\n",
      "hidden_layer1 (Dense)        (None, 512)               1573376   \n",
      "_________________________________________________________________\n",
      "batch_normalization_1 (Batch (None, 512)               2048      \n",
      "_________________________________________________________________\n",
      "hidden_layer2 (Dense)        (None, 256)               131328    \n",
      "_________________________________________________________________\n",
      "batch_normalization_2 (Batch (None, 256)               1024      \n",
      "_________________________________________________________________\n",
      "hidden_layer3 (Dense)        (None, 128)               32896     \n",
      "_________________________________________________________________\n",
      "batch_normalization_3 (Batch (None, 128)               512       \n",
      "_________________________________________________________________\n",
      "output (Dense)               (None, 10)                1290      \n",
      "=================================================================\n",
      "Total params: 1,742,474\n",
      "Trainable params: 1,740,682\n",
      "Non-trainable params: 1,792\n",
      "_________________________________________________________________\n",
      "Train on 50000 samples, validate on 10000 samples\n",
      "Epoch 1/20\n",
      "50000/50000 [==============================] - 8s 158us/step - loss: 2.0404 - acc: 0.3087 - val_loss: 1.9237 - val_acc: 0.3501\n",
      "Epoch 2/20\n",
      "50000/50000 [==============================] - 7s 145us/step - loss: 1.6926 - acc: 0.4100 - val_loss: 1.7590 - val_acc: 0.3880\n",
      "Epoch 3/20\n",
      "50000/50000 [==============================] - 7s 146us/step - loss: 1.5881 - acc: 0.4447 - val_loss: 1.6861 - val_acc: 0.4127\n",
      "Epoch 4/20\n",
      "50000/50000 [==============================] - 8s 165us/step - loss: 1.5211 - acc: 0.4698 - val_loss: 1.6272 - val_acc: 0.4334\n",
      "Epoch 5/20\n",
      "50000/50000 [==============================] - 8s 165us/step - loss: 1.4671 - acc: 0.4857 - val_loss: 1.5946 - val_acc: 0.4374\n",
      "Epoch 6/20\n",
      "50000/50000 [==============================] - 9s 180us/step - loss: 1.4236 - acc: 0.5009 - val_loss: 1.5766 - val_acc: 0.4438\n",
      "Epoch 7/20\n",
      "50000/50000 [==============================] - 9s 170us/step - loss: 1.3851 - acc: 0.5155 - val_loss: 1.5622 - val_acc: 0.4465\n",
      "Epoch 8/20\n",
      "50000/50000 [==============================] - 8s 154us/step - loss: 1.3505 - acc: 0.5271 - val_loss: 1.5204 - val_acc: 0.4706\n",
      "Epoch 9/20\n",
      "50000/50000 [==============================] - 9s 175us/step - loss: 1.3177 - acc: 0.5401 - val_loss: 1.5042 - val_acc: 0.4691\n",
      "Epoch 10/20\n",
      "50000/50000 [==============================] - 9s 184us/step - loss: 1.2906 - acc: 0.5495 - val_loss: 1.5150 - val_acc: 0.4672\n",
      "Epoch 11/20\n",
      "50000/50000 [==============================] - 8s 153us/step - loss: 1.2632 - acc: 0.5611 - val_loss: 1.4867 - val_acc: 0.4796\n",
      "Epoch 12/20\n",
      "50000/50000 [==============================] - 7s 145us/step - loss: 1.2351 - acc: 0.5703 - val_loss: 1.4771 - val_acc: 0.4823\n",
      "Epoch 13/20\n",
      "50000/50000 [==============================] - 7s 146us/step - loss: 1.2118 - acc: 0.5806 - val_loss: 1.4701 - val_acc: 0.4834\n",
      "Epoch 14/20\n",
      "50000/50000 [==============================] - 7s 140us/step - loss: 1.1885 - acc: 0.5892 - val_loss: 1.4699 - val_acc: 0.4851\n",
      "Epoch 15/20\n",
      "50000/50000 [==============================] - 7s 138us/step - loss: 1.1654 - acc: 0.5975 - val_loss: 1.5205 - val_acc: 0.4631\n",
      "Epoch 16/20\n",
      "50000/50000 [==============================] - 7s 138us/step - loss: 1.1430 - acc: 0.6072 - val_loss: 1.4618 - val_acc: 0.4873\n",
      "Epoch 17/20\n",
      "50000/50000 [==============================] - 7s 137us/step - loss: 1.1216 - acc: 0.6160 - val_loss: 1.4603 - val_acc: 0.4870\n",
      "Epoch 18/20\n",
      "50000/50000 [==============================] - 7s 137us/step - loss: 1.0991 - acc: 0.6246 - val_loss: 1.4780 - val_acc: 0.4820\n",
      "Epoch 19/20\n",
      "50000/50000 [==============================] - 7s 139us/step - loss: 1.0793 - acc: 0.6325 - val_loss: 1.4937 - val_acc: 0.4813\n",
      "Epoch 20/20\n",
      "50000/50000 [==============================] - 8s 156us/step - loss: 1.0584 - acc: 0.6395 - val_loss: 1.4732 - val_acc: 0.4789\n"
     ]
    }
   ],
   "source": [
    "\"\"\"\n",
    "# 載入 Callbacks, 並將 monitor 設定為監控 validation loss\n",
    "\"\"\"\n",
    "from keras.callbacks import EarlyStopping\n",
    "\n",
    "\n",
    "\n",
    "\n",
    "results = {}\n",
    "\"\"\"Code Here\n",
    "撰寫你的訓練流程並將結果用 dictionary 紀錄\n",
    "\"\"\"\n",
    "for patient in PATIENCE:\n",
    "    keras.backend.clear_session() # 把舊的 Graph 清掉\n",
    "    print(\"Experiment with PATIENCE = %.6f\" % (patient))\n",
    "    model = build_mlp(input_shape=x_train.shape[1:])\n",
    "    model.summary()\n",
    "    optimizer = keras.optimizers.SGD(lr=LEARNING_RATE, nesterov=True, momentum=MOMENTUM)\n",
    "    model.compile(loss=\"categorical_crossentropy\", metrics=[\"accuracy\"], optimizer=optimizer)\n",
    "    earlystop = EarlyStopping(monitor = \"val_acc\", \n",
    "                              patience = patient, \n",
    "                              verbose = 1\n",
    "                              )\n",
    "    model.fit(x_train, y_train, \n",
    "              epochs=EPOCHS, \n",
    "              batch_size=BATCH_SIZE, \n",
    "              validation_data=(x_test, y_test), \n",
    "              shuffle=True,\n",
    "              callbacks=[earlystop]\n",
    "             )\n",
    "\n",
    "    # Collect results\n",
    "    train_loss = model.history.history[\"loss\"]\n",
    "    valid_loss = model.history.history[\"val_loss\"]\n",
    "    train_acc = model.history.history[\"acc\"]\n",
    "    valid_acc = model.history.history[\"val_acc\"]\n",
    "    \n",
    "    exp_name_tag = \"exp-PATIENCE-%s\" % str(patient)\n",
    "    \n",
    "    results[exp_name_tag] = {'train-loss': train_loss,\n",
    "                             'valid-loss': valid_loss,\n",
    "                             'train-acc': train_acc,\n",
    "                             'valid-acc': valid_acc}"
   ]
  },
  {
   "cell_type": "code",
   "execution_count": 8,
   "metadata": {},
   "outputs": [
    {
     "data": {
      "image/png": "[encoded data removed]",
      "text/plain": [
       "<Figure size 576x432 with 1 Axes>"
      ]
     },
     "metadata": {},
     "output_type": "display_data"
    },
    {
     "data": {
      "image/png": "[encoded data removed]",
      "text/plain": [
       "<Figure size 576x432 with 1 Axes>"
      ]
     },
     "metadata": {},
     "output_type": "display_data"
    }
   ],
   "source": [
    "import matplotlib.pyplot as plt\n",
    "%matplotlib inline\n",
    "\"\"\"Code Here\n",
    "將結果繪出\n",
    "\"\"\"\n",
    "\n",
    "import matplotlib.pyplot as plt\n",
    "%matplotlib inline\n",
    "color_bar = [\"r\", \"g\", \"b\", \"y\", \"m\", \"k\"]\n",
    "\n",
    "plt.figure(figsize=(8,6))\n",
    "for i, cond in enumerate(results.keys()):\n",
    "    plt.plot(range(len(results[cond]['train-loss'])),results[cond]['train-loss'], '-', label=cond, color=color_bar[i])\n",
    "    plt.plot(range(len(results[cond]['valid-loss'])),results[cond]['valid-loss'], '--', label=cond, color=color_bar[i])\n",
    "plt.title(\"Loss\")\n",
    "plt.legend()\n",
    "plt.show()\n",
    "\n",
    "plt.figure(figsize=(8,6))\n",
    "for i, cond in enumerate(results.keys()):\n",
    "    plt.plot(range(len(results[cond]['train-acc'])),results[cond]['train-acc'], '-', label=cond, color=color_bar[i])\n",
    "    plt.plot(range(len(results[cond]['valid-acc'])),results[cond]['valid-acc'], '--', label=cond, color=color_bar[i])\n",
    "plt.title(\"Accuracy\")\n",
    "plt.legend()\n",
    "plt.show()"
   ]
  }
 ],
 "metadata": {
  "kernelspec": {
   "display_name": "Python 3",
   "language": "python",
   "name": "python3"
  },
  "language_info": {
   "codemirror_mode": {
    "name": "ipython",
    "version": 3
   },
   "file_extension": ".py",
   "mimetype": "text/x-python",
   "name": "python",
   "nbconvert_exporter": "python",
   "pygments_lexer": "ipython3",
   "version": "3.6.5"
  }
 },
 "nbformat": 4,
 "nbformat_minor": 2
}
